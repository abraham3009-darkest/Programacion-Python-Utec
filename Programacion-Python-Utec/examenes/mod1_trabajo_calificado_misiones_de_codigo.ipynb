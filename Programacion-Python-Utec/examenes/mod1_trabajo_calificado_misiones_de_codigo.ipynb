{
  "nbformat": 4,
  "nbformat_minor": 0,
  "metadata": {
    "colab": {
      "provenance": [],
      "include_colab_link": true
    },
    "kernelspec": {
      "name": "python3",
      "display_name": "Python 3"
    },
    "language_info": {
      "name": "python"
    }
  },
  "cells": [
    {
      "cell_type": "markdown",
      "metadata": {
        "id": "view-in-github",
        "colab_type": "text"
      },
      "source": [
        "<a href=\"https://colab.research.google.com/github/abraham3009-darkest/Programacion-Python-Utec/blob/main/Programacion-Python-Utec/examenes/mod1_trabajo_calificado_misiones_de_codigo.ipynb\" target=\"_parent\"><img src=\"https://colab.research.google.com/assets/colab-badge.svg\" alt=\"Open In Colab\"/></a>"
      ]
    },
    {
      "cell_type": "markdown",
      "source": [
        "<img src=\"https://posgrado.utec.edu.pe/sites/default/files/2023-08/Testimonial-home-2.jpg\" alt=\"HTML5 Icon\" width=\"900\" height=\"250\" >\n"
      ],
      "metadata": {
        "id": "dYz-CyepUcRS"
      }
    },
    {
      "cell_type": "markdown",
      "source": [
        "# **Trabajo Calificado: Misiones de Código**"
      ],
      "metadata": {
        "id": "tYd6BiWgUfLo"
      }
    },
    {
      "cell_type": "markdown",
      "source": [
        "**Contexto:**\n",
        "\n",
        "Eres desarrollador de un Simulador de Aventuras llamado Pythonia, un entorno virtual de entrenamiento diseñado para mejorar tus habilidades de programación. En este simulador, enfrentarás una serie de desafíos basados en situaciones de videojuegos y escenarios de aventura, donde deberás aplicar estructuras lógicas, condicionales, bucles y funciones para resolver problemas.\n",
        "\n"
      ],
      "metadata": {
        "id": "GtjjVTFRU6W1"
      }
    },
    {
      "cell_type": "markdown",
      "source": [
        "Cada ejercicio representa un reto independiente que simula eventos comunes en el desarrollo de videojuegos, sistemas de simulación y lógica de juegos interactivos."
      ],
      "metadata": {
        "id": "Ggayz2SXVXjt"
      }
    },
    {
      "cell_type": "markdown",
      "source": [
        "**Recomendaciones:**\n",
        "\n",
        "Utilizar buenas prácticas: comentarios, entradas y salidas limpias.\n",
        "\n",
        "Uso de funciones donde sea necesario."
      ],
      "metadata": {
        "id": "eAL1_dscUjd_"
      }
    },
    {
      "cell_type": "markdown",
      "source": [
        "**Ejercicio 1: Elige tu personaje (Variables y Entrada/Salida)**\n",
        "\n",
        "Crea un programa que permita al jugador elegir su personaje entre Mago, Guerrero o Arquero. Según la elección, muestra un mensaje personalizado con las estadísticas iniciales (vida, poder, defensa)."
      ],
      "metadata": {
        "id": "YpxJc_PoVc4c"
      }
    },
    {
      "cell_type": "code",
      "source": [
        "## INICIO DE CÓDIGO\n",
        "# Función que recibe el personaje (X) y muestra sus estadísticas\n",
        "def mostrar_estadisticas(personaje):\n",
        "    if personaje == \"Mago\":\n",
        "        vida = 70\n",
        "        poder = 90\n",
        "        defensa = 30\n",
        "    elif personaje == \"Guerrero\":\n",
        "        vida = 100\n",
        "        poder = 60\n",
        "        defensa = 80\n",
        "    elif personaje == \"Arquero\":\n",
        "        vida = 80\n",
        "        poder = 75\n",
        "        defensa = 50\n",
        "\n",
        "    # Mostrar estadísticas\n",
        "    print(f\"\\nHas elegido a {personaje}.\")\n",
        "    print(\"Estas son sus estadísticas:\")\n",
        "    print(f\"Vida: {vida}\")\n",
        "    print(f\"Poder: {poder}\")\n",
        "    print(f\"Defensa: {defensa}\")\n",
        "\n",
        "# Solicitar entrada al usuario\n",
        "print(\"=== BIENVENIDO A PYTHONIA ===\")\n",
        "print(\"Personajes disponibles: Mago, Guerrero, Arquero\")\n",
        "X = input(\"Elige tu personaje: \").strip().capitalize()\n",
        "\n",
        "# Validación de entrada y llamada a la función\n",
        "if X in [\"Mago\", \"Guerrero\", \"Arquero\"]:\n",
        "    mostrar_estadisticas(X)\n",
        "else:\n",
        "    print(\"\\n Personaje no válido. Debes elegir entre Mago, Guerrero o Arquero.\")\n",
        "## FIN DE CÓDIGO"
      ],
      "metadata": {
        "id": "GZrzl-7wVfkW",
        "outputId": "b554db77-967e-405d-818a-1274eced82d2",
        "colab": {
          "base_uri": "https://localhost:8080/"
        }
      },
      "execution_count": 1,
      "outputs": [
        {
          "output_type": "stream",
          "name": "stdout",
          "text": [
            "=== BIENVENIDO A PYTHONIA ===\n",
            "Personajes disponibles: Mago, Guerrero, Arquero\n",
            "Elige tu personaje: Mago\n",
            "\n",
            "Has elegido a Mago.\n",
            "Estas son sus estadísticas:\n",
            "Vida: 70\n",
            "Poder: 90\n",
            "Defensa: 30\n"
          ]
        }
      ]
    },
    {
      "cell_type": "markdown",
      "source": [
        "**Ejercicio 2: La prueba del sabio (Condicionales)**\n",
        "\n",
        "El sabio te hace una pregunta: si traes menos de 50 monedas de oro, te expulsará; si llevas entre 50 y 100, te permitirá pasar; si llevas más de 100, te dará una poción.\n",
        "Crea el programa que lea las monedas y muestre el resultado."
      ],
      "metadata": {
        "id": "kvoGwX-QVgPr"
      }
    },
    {
      "cell_type": "code",
      "execution_count": 5,
      "metadata": {
        "id": "3tg6KSK-UbUw",
        "outputId": "6fa20fc4-8cf0-4a5f-a4a1-5cb6c39a4dc6",
        "colab": {
          "base_uri": "https://localhost:8080/"
        }
      },
      "outputs": [
        {
          "output_type": "stream",
          "name": "stdout",
          "text": [
            "=== EL SABIO GUARDIÁN ===\n",
            "SABIO: Cuántas monedas de oro traes...\n",
            "Ingresa la cantidad de monedas de oro que llevas: 30\n",
            "SABIO(frunce el ceño): '¡Fuera de aquí, pobre RAfOl!'\n"
          ]
        }
      ],
      "source": [
        "## INICIO DE CÓDIGO\n",
        "# Mostrar introducción\n",
        "print(\"=== EL SABIO GUARDIÁN ===\")\n",
        "print(\"SABIO: Cuántas monedas de oro traes...\")\n",
        "\n",
        "# Entrada del número de monedas (convertido a entero)\n",
        "monedas = int(input(\"Ingresa la cantidad de monedas de oro que llevas: \"))\n",
        "\n",
        "# Evaluar condiciones según el número de monedas\n",
        "if monedas < 50:\n",
        "    print(\"SABIO(frunce el ceño): '¡Fuera de aquí, pobre RAfOl!'\")\n",
        "elif 50 <= monedas <= 100:\n",
        "    print(\"SABIO(asiente lentamente): 'Puedes pasar, aventurero digno.'\")\n",
        "else:  # monedas > 100\n",
        "    print(\"SABIO(sonríe): 'Eres generoso. Aquí tienes una poción mágica.'\")\n",
        "## FIN DE CÓDIGO\n"
      ]
    },
    {
      "cell_type": "markdown",
      "source": [
        "**Ejercicio 3: El puente infinito (Bucles While)**\n",
        "\n",
        "Diseña un programa que simule el cruce de un puente que cambia su estructura aleatoriamente. El jugador debe adivinar si el siguiente paso será seguro ('s') o peligroso ('p').\n",
        "El juego termina si el jugador elige 'salir' o si falla 3 veces."
      ],
      "metadata": {
        "id": "g7B02fWhVj4M"
      }
    },
    {
      "cell_type": "code",
      "source": [
        "## INICIO DE CÓDIGO\n",
        "\n",
        "import random\n",
        "\n",
        "# Función simple para obtener el estado del puente\n",
        "def obtener_estado_puente():\n",
        "    return random.choice(['s', 'p'])\n",
        "\n",
        "# Menú de inicio del juego\n",
        "print(\"=== BIENVENIDO A PYTHONIA ===\")\n",
        "print(\"Te encuentras frente al legendario Puente Inestable.\")\n",
        "print(\"¿Estás listo para cruzarlo?\")\n",
        "\n",
        "print(\"\\n1. Iniciar juego\")\n",
        "print(\"2. Salir\")\n",
        "opcion = input(\"Elige una opción (1 o 2): \").strip()\n",
        "\n",
        "if opcion == '1':\n",
        "    print(\"\\n=== EL PUENTE INESTABLE ===\")\n",
        "    print(\"Adivina si el siguiente paso es seguro ('s') o peligroso ('p').\")\n",
        "    print(\"Escribe 'salir' para abandonar.\")\n",
        "    print(\"Tienes 3 vidas. ¡Buena suerte!\\n\")\n",
        "\n",
        "    vidas = 3\n",
        "\n",
        "    while vidas > 0:\n",
        "        paso_real = obtener_estado_puente()\n",
        "        eleccion = input(\"¿El siguiente paso es seguro o peligroso? (s/p): \").strip().lower()\n",
        "\n",
        "        if eleccion == 'salir':\n",
        "            print(\"\\n🏃‍♂️ Has decidido abandonar el cruce. ¡Hasta la próxima!\")\n",
        "            break\n",
        "\n",
        "        if eleccion not in ['s', 'p']:\n",
        "            print(\"Entrada no válida. Usa 's', 'p' o 'salir'.\\n\")\n",
        "            continue\n",
        "\n",
        "        if eleccion == paso_real:\n",
        "            print(\"Paso correcto. Sigues avanzando por el puente.\\n\")\n",
        "        else:\n",
        "            vidas -= 1\n",
        "            print(f\"¡Peligro! Has fallado. Te quedan {vidas} vidas.\\n\")\n",
        "\n",
        "    if vidas == 0:\n",
        "        print(\"💀 Has caído del puente. El sabio lamenta tu destino...\")\n",
        "\n",
        "elif opcion == '2':\n",
        "    print(\"\\n Has decidido no cruzar el puente. El sabio te observa en silencio.\")\n",
        "else:\n",
        "    print(\"\\n Opción no válida. Reinicia el juego y elige 1 o 2.\")\n",
        "\n",
        "# FIN DE CÓDIGO\n"
      ],
      "metadata": {
        "id": "9DRMWhDBVn71",
        "outputId": "a45d6d94-cfb4-45a2-9d6e-9faa0b42507a",
        "colab": {
          "base_uri": "https://localhost:8080/"
        }
      },
      "execution_count": 6,
      "outputs": [
        {
          "output_type": "stream",
          "name": "stdout",
          "text": [
            "=== BIENVENIDO A PYTHONIA ===\n",
            "Te encuentras frente al legendario Puente Inestable.\n",
            "¿Estás listo para cruzarlo?\n",
            "\n",
            "1. Iniciar juego\n",
            "2. Salir\n",
            "Elige una opción (1 o 2): 1\n",
            "\n",
            "=== EL PUENTE INESTABLE ===\n",
            "Adivina si el siguiente paso es seguro ('s') o peligroso ('p').\n",
            "Escribe 'salir' para abandonar.\n",
            "Tienes 3 vidas. ¡Buena suerte!\n",
            "\n",
            "¿El siguiente paso es seguro o peligroso? (s/p): s\n",
            "¡Peligro! Has fallado. Te quedan 2 vidas.\n",
            "\n",
            "¿El siguiente paso es seguro o peligroso? (s/p): s\n",
            "Paso correcto. Sigues avanzando por el puente.\n",
            "\n",
            "¿El siguiente paso es seguro o peligroso? (s/p): s\n",
            "¡Peligro! Has fallado. Te quedan 1 vidas.\n",
            "\n",
            "¿El siguiente paso es seguro o peligroso? (s/p): p\n",
            "¡Peligro! Has fallado. Te quedan 0 vidas.\n",
            "\n",
            "💀 Has caído del puente. El sabio lamenta tu destino...\n"
          ]
        }
      ]
    },
    {
      "cell_type": "markdown",
      "source": [
        "**Ejercicio 4: El laberinto secreto (Bucle For y Range)**\n",
        "\n",
        "Crea un programa que muestre una cuenta regresiva desde 10 hasta 1 al estilo nivel de escape del laberinto. Cada número debe ir acompañado de un mensaje tipo \"Quedan X segundos para escapar\"."
      ],
      "metadata": {
        "id": "66qKXQwTVoZG"
      }
    },
    {
      "cell_type": "code",
      "source": [
        "# INICIO DE CÓDIGO\n",
        "\n",
        "import time\n",
        "\n",
        "# Función que muestra la cuenta regresiva\n",
        "def cuenta_regresiva():\n",
        "    for segundos in range(10, 0, -1):\n",
        "        print(f\"Quedan {segundos} segundos para escapar\")\n",
        "        time.sleep(1)\n",
        "\n",
        "cuenta_regresiva()\n",
        "\n",
        "\n",
        "## FIN DE CÓDIGO"
      ],
      "metadata": {
        "id": "i1S9WPmhVsEj",
        "outputId": "3e84333b-a594-4006-c337-0106cf3b448a",
        "colab": {
          "base_uri": "https://localhost:8080/"
        }
      },
      "execution_count": 8,
      "outputs": [
        {
          "output_type": "stream",
          "name": "stdout",
          "text": [
            "Quedan 10 segundos para escapar\n",
            "Quedan 9 segundos para escapar\n",
            "Quedan 8 segundos para escapar\n",
            "Quedan 7 segundos para escapar\n",
            "Quedan 6 segundos para escapar\n",
            "Quedan 5 segundos para escapar\n",
            "Quedan 4 segundos para escapar\n",
            "Quedan 3 segundos para escapar\n",
            "Quedan 2 segundos para escapar\n",
            "Quedan 1 segundos para escapar\n"
          ]
        }
      ]
    },
    {
      "cell_type": "markdown",
      "source": [
        "**Ejercicio 5: Cofres encantados (Break y Continue)**\n",
        "\n",
        "Simula 10 cofres cerrados, pero uno de ellos es una trampa explosiva (elige aleatoriamente una posición).\n",
        "El jugador abre cofres uno por uno:\n",
        "\n",
        "* Si encuentra la trampa, termina el juego (break).\n",
        "\n",
        "* Si encuentra cofres vacíos, continúa (continue).\n",
        "\n",
        "* Si abre todos sin explotar, gana."
      ],
      "metadata": {
        "id": "5dL6C-x1VsYf"
      }
    },
    {
      "cell_type": "code",
      "source": [
        "\n",
        "# INICIO DE CÓDIGO\n",
        "\n",
        "import random\n",
        "\n",
        "# Elegir aleatoriamente la posición de la trampa (de 1 a 10)\n",
        "trampa = random.randint(1, 10)\n",
        "\n",
        "# Simulación de apertura de 10 cofres\n",
        "for i in range(1, 11):\n",
        "    print(f\"Abriendo cofre {i}...\")\n",
        "\n",
        "    if i == trampa:\n",
        "        print(\"¡Era una trampa explosiva! Fin del juego.\")\n",
        "        break\n",
        "\n",
        "    print(\"Cofre vacío. Continúas explorando...\\n\")\n",
        "    continue\n",
        "\n",
        "# Verificar si se ganaron los 10 sin trampa\n",
        "if i == 10 and trampa != 10:\n",
        "    print(\"¡Has abierto todos los cofres y evitado la trampa! ¡Ganaste!\")\n",
        "\n",
        "# FIN DE CÓDIGO\n"
      ],
      "metadata": {
        "id": "d0hcbl0_V2BI",
        "outputId": "aa2ba823-d45f-4493-ae52-0077903859c9",
        "colab": {
          "base_uri": "https://localhost:8080/"
        }
      },
      "execution_count": 7,
      "outputs": [
        {
          "output_type": "stream",
          "name": "stdout",
          "text": [
            "Abriendo cofre 1...\n",
            "Cofre vacío. Continúas explorando...\n",
            "\n",
            "Abriendo cofre 2...\n",
            "Cofre vacío. Continúas explorando...\n",
            "\n",
            "Abriendo cofre 3...\n",
            "¡Era una trampa explosiva! Fin del juego.\n"
          ]
        }
      ]
    },
    {
      "cell_type": "markdown",
      "source": [
        "**Ejercicio 6: Pociones mágicas (Funciones básicas)**\n",
        "\n",
        "Crea una función usar_pocion(tipo) que permita al jugador elegir entre 'vida', 'fuerza' o 'velocidad', y retorne el efecto de la poción.\n",
        "Luego, pide al usuario que elija una poción y muestra el resultado llamando a la función."
      ],
      "metadata": {
        "id": "94yOz-rKV2gp"
      }
    },
    {
      "cell_type": "code",
      "source": [
        "# INICIO DE CÓDIGO\n",
        "\n",
        "def usar_pocion(tipo):\n",
        "    if tipo == 'vida':\n",
        "        return \"Has recuperado 50 puntos de vida.\"\n",
        "    elif tipo == 'fuerza':\n",
        "        return \"Tu fuerza ha aumentado en 20 puntos.\"\n",
        "    elif tipo == 'velocidad':\n",
        "        return \"Te mueves el doble de rápido durante 10 segundos.\"\n",
        "    else:\n",
        "        return \"Tipo de poción no reconocida.\"\n",
        "\n",
        "pocion = input(\"Elige una poción mágica (vida, fuerza, velocidad): \").strip().lower()\n",
        "resultado = usar_pocion(pocion)\n",
        "print(resultado)\n",
        "\n",
        "# FIN DE CÓDIGO\n"
      ],
      "metadata": {
        "id": "NQKm0w5iV4Zz",
        "outputId": "20906b2f-075e-4793-cda8-a9f4fc5ac2e2",
        "colab": {
          "base_uri": "https://localhost:8080/"
        }
      },
      "execution_count": 9,
      "outputs": [
        {
          "output_type": "stream",
          "name": "stdout",
          "text": [
            "Elige una poción mágica (vida, fuerza, velocidad): fuerza\n",
            "Tu fuerza ha aumentado en 20 puntos.\n"
          ]
        }
      ]
    },
    {
      "cell_type": "markdown",
      "source": [
        "**Ejercicio 7: Calculadora de daño crítico (Funciones con parámetros)**\n",
        "\n",
        "Crea una función calcular_danio(base, critico) que reciba el daño base y un porcentaje de crítico, devolviendo el daño total.\n",
        "El usuario ingresará el daño base y el porcentaje crítico."
      ],
      "metadata": {
        "id": "Qdnbnm4nV44h"
      }
    },
    {
      "cell_type": "code",
      "source": [
        "# INICIO DE CÓDIGO\n",
        "\n",
        "def calcular_danio(base, critico):\n",
        "    return base + (base * critico / 100)\n",
        "\n",
        "base = float(input(\"Ingresa el daño base: \"))\n",
        "critico = float(input(\"Ingresa el porcentaje crítico (%): \"))\n",
        "total = calcular_danio(base, critico)\n",
        "print(f\"Daño total: {total}\")\n",
        "\n",
        "# FIN DE CÓDIGO\n"
      ],
      "metadata": {
        "id": "leaLQJWrV8Tx",
        "outputId": "d863598a-734a-4760-a678-be851e4a17d8",
        "colab": {
          "base_uri": "https://localhost:8080/"
        }
      },
      "execution_count": 10,
      "outputs": [
        {
          "output_type": "stream",
          "name": "stdout",
          "text": [
            "Ingresa el daño base: 20\n",
            "Ingresa el porcentaje crítico (%): 30\n",
            "💥 Daño total: 26.0\n"
          ]
        }
      ]
    },
    {
      "cell_type": "markdown",
      "source": [
        "**Ejercicio 8: El desafío del dragón (Condicionales + funciones + bucles)**\n",
        "\n",
        "Diseña una función enfrentar_dragon(vida, fuerza) que simule el combate:\n",
        "\n",
        "* El jugador ataca al dragón y el dragón contraataca restando vida.\n",
        "\n",
        "* Si la vida llega a 0, el jugador pierde.\n",
        "\n",
        "* Si el jugador realiza 3 ataques consecutivos sin morir, gana.\n",
        "Usa un bucle while interno para el combate."
      ],
      "metadata": {
        "id": "d4j1ckE2V9ag"
      }
    },
    {
      "cell_type": "code",
      "source": [
        "\n",
        "# INICIO DE CÓDIGO\n",
        "\n",
        "def enfrentar_dragon(vida, fuerza):\n",
        "    ataques = 0\n",
        "    while vida > 0 and ataques < 3:\n",
        "        print(f\"\\nAtaque {ataques + 1}: ¡Atacas con fuerza {fuerza}!\")\n",
        "        print(\"El dragón contraataca. Pierdes 30 de vida.\")\n",
        "        vida -= 30\n",
        "        if vida <= 0:\n",
        "            print(\"💀 El dragón te ha vencido.\")\n",
        "            return\n",
        "        ataques += 1\n",
        "\n",
        "    if ataques == 3:\n",
        "        print(\"¡Has derrotado al dragón con 3 ataques consecutivos!\")\n",
        "    else:\n",
        "        print(\" El dragón te derrotó antes de lograrlo.\")\n",
        "\n",
        "vida = 100\n",
        "fuerza = 40\n",
        "enfrentar_dragon(vida, fuerza)\n",
        "\n",
        "# FIN DE CÓDIGO\n"
      ],
      "metadata": {
        "id": "_CGyWwuaWByi",
        "outputId": "dd0dcd8d-73f2-486f-d09c-7b82ad7c339c",
        "colab": {
          "base_uri": "https://localhost:8080/"
        }
      },
      "execution_count": 11,
      "outputs": [
        {
          "output_type": "stream",
          "name": "stdout",
          "text": [
            "\n",
            "Ataque 1: ¡Atacas con fuerza 40!\n",
            "El dragón contraataca. Pierdes 30 de vida.\n",
            "\n",
            "Ataque 2: ¡Atacas con fuerza 40!\n",
            "El dragón contraataca. Pierdes 30 de vida.\n",
            "\n",
            "Ataque 3: ¡Atacas con fuerza 40!\n",
            "El dragón contraataca. Pierdes 30 de vida.\n",
            "¡Has derrotado al dragón con 3 ataques consecutivos!\n"
          ]
        }
      ]
    },
    {
      "cell_type": "markdown",
      "source": [
        "**Ejercicio 9: El camino del héroe (Recursividad sencilla)**\n",
        "\n",
        "Crea una función recursiva que simule el camino de un héroe cruzando N obstáculos, mostrando mensajes como:\n",
        "\n",
        "\"Obstáculo 3: saltando...\"\n",
        "\n",
        "Termina cuando N llegue a 0."
      ],
      "metadata": {
        "id": "8X5Y08fQWCFU"
      }
    },
    {
      "cell_type": "code",
      "source": [
        "# INICIO DE CÓDIGO\n",
        "\n",
        "def camino_heroe(n):\n",
        "    if n == 0:\n",
        "        print(\"🏁 Has superado todos los obstáculos. ¡Eres un héroe!\")\n",
        "        return\n",
        "    print(f\"Obstáculo {n}: saltando...\")\n",
        "    camino_heroe(n - 1)\n",
        "\n",
        "obstaculos = int(input(\"¿Cuántos obstáculos debe superar el héroe? \"))\n",
        "camino_heroe(obstaculos)\n",
        "\n",
        "# FIN DE CÓDIGO\n"
      ],
      "metadata": {
        "id": "vVDjZHSVWJdQ",
        "outputId": "35601f4c-4a6a-4f2c-c974-ae1b36ebbe6e",
        "colab": {
          "base_uri": "https://localhost:8080/"
        }
      },
      "execution_count": 12,
      "outputs": [
        {
          "output_type": "stream",
          "name": "stdout",
          "text": [
            "¿Cuántos obstáculos debe superar el héroe? 3\n",
            "Obstáculo 3: saltando...\n",
            "Obstáculo 2: saltando...\n",
            "Obstáculo 1: saltando...\n",
            "🏁 Has superado todos los obstáculos. ¡Eres un héroe!\n"
          ]
        }
      ]
    },
    {
      "cell_type": "markdown",
      "source": [
        "**Ejercicio 10: Torre de los hechizos (Reto Integrador Final)**\n",
        "\n",
        "Crea un programa completo que combine:\n",
        "\n",
        "* Elección de personaje.\n",
        "\n",
        "* Simulación de un combate contra un enemigo con vida y defensa.\n",
        "\n",
        "* Uso de funciones para calcular el daño.\n",
        "\n",
        "* Bucles para turnos de combate.\n",
        "\n",
        "* Uso de una función recursiva que simule las rondas como niveles (nivel 1, 2, 3 hasta ganar).\n",
        "\n"
      ],
      "metadata": {
        "id": "Behbpl_8WJzR"
      }
    },
    {
      "cell_type": "code",
      "source": [
        "# INICIO DE CÓDIGO FINAL - TORRE DE LOS HECHIZOS\n",
        "\n",
        "def mostrar_estadisticas(personaje):\n",
        "    if personaje == \"Mago\":\n",
        "        vida = 70\n",
        "        poder = 90\n",
        "        defensa = 30\n",
        "    elif personaje == \"Guerrero\":\n",
        "        vida = 100\n",
        "        poder = 60\n",
        "        defensa = 80\n",
        "    elif personaje == \"Arquero\":\n",
        "        vida = 80\n",
        "        poder = 75\n",
        "        defensa = 50\n",
        "\n",
        "    print(f\"\\nHas elegido a {personaje}.\")\n",
        "    print(\"Estas son sus estadísticas:\")\n",
        "    print(f\"Vida: {vida}\")\n",
        "    print(f\"Poder: {poder}\")\n",
        "    print(f\"Defensa: {defensa}\")\n",
        "\n",
        "    return {\"nombre\": personaje, \"vida\": vida, \"poder\": poder, \"defensa\": defensa}\n",
        "\n",
        "\n",
        "def calcular_danio(ataque, defensa):\n",
        "    return max(0, ataque - defensa)\n",
        "\n",
        "\n",
        "def combatir_jefe(jugador, nivel):\n",
        "    vida_jefe = 60 + (nivel * 20)\n",
        "    defensa_jefe = 20 + (nivel * 5)\n",
        "    turnos = 0\n",
        "\n",
        "    print(f\"\\n--- COMBATE NIVEL {nivel} ---\")\n",
        "    print(f\"Jefe con {vida_jefe} de vida y {defensa_jefe} de defensa\")\n",
        "\n",
        "    while vida_jefe > 0:\n",
        "        danio = calcular_danio(jugador[\"poder\"], defensa_jefe)\n",
        "        vida_jefe -= danio\n",
        "        turnos += 1\n",
        "        print(f\"Turno {turnos}: Atacas con {jugador['poder']} → Daño real: {danio} → Vida restante del jefe: {max(0, vida_jefe)}\")\n",
        "\n",
        "    print(\"¡Has derrotado al jefe de este nivel!\")\n",
        "\n",
        "\n",
        "def avanzar_niveles(nivel, jugador):\n",
        "    if nivel > 3:\n",
        "        print(\"\\n¡Has conquistado la Torre de los Hechizos!\")\n",
        "        return\n",
        "    combatir_jefe(jugador, nivel)\n",
        "    avanzar_niveles(nivel + 1, jugador)\n",
        "\n",
        "\n",
        "# --- INICIO DEL JUEGO ---\n",
        "print(\"=== TORRE DE LOS HECHIZOS ===\")\n",
        "print(\"Personajes disponibles: Mago, Guerrero, Arquero\")\n",
        "eleccion = input(\"Elige tu personaje: \").strip().capitalize()\n",
        "\n",
        "if eleccion in [\"Mago\", \"Guerrero\", \"Arquero\"]:\n",
        "    jugador = mostrar_estadisticas(eleccion)\n",
        "    avanzar_niveles(1, jugador)\n",
        "else:\n",
        "    print(\"Personaje no válido. Reinicia el juego y elige uno correcto.\")\n",
        "\n",
        "# FIN DE CÓDIGO FINAL\n"
      ],
      "metadata": {
        "id": "smtLq1SDWTJd",
        "outputId": "abcd91d5-dfdb-461b-8786-645c2d82a716",
        "colab": {
          "base_uri": "https://localhost:8080/"
        }
      },
      "execution_count": 14,
      "outputs": [
        {
          "output_type": "stream",
          "name": "stdout",
          "text": [
            "=== TORRE DE LOS HECHIZOS ===\n",
            "Personajes disponibles: Mago, Guerrero, Arquero\n",
            "Elige tu personaje: Mago\n",
            "\n",
            "Has elegido a Mago.\n",
            "Estas son sus estadísticas:\n",
            "Vida: 70\n",
            "Poder: 90\n",
            "Defensa: 30\n",
            "\n",
            "--- COMBATE NIVEL 1 ---\n",
            "Jefe con 80 de vida y 25 de defensa\n",
            "Turno 1: Atacas con 90 → Daño real: 65 → Vida restante del jefe: 15\n",
            "Turno 2: Atacas con 90 → Daño real: 65 → Vida restante del jefe: 0\n",
            "¡Has derrotado al jefe de este nivel!\n",
            "\n",
            "--- COMBATE NIVEL 2 ---\n",
            "Jefe con 100 de vida y 30 de defensa\n",
            "Turno 1: Atacas con 90 → Daño real: 60 → Vida restante del jefe: 40\n",
            "Turno 2: Atacas con 90 → Daño real: 60 → Vida restante del jefe: 0\n",
            "¡Has derrotado al jefe de este nivel!\n",
            "\n",
            "--- COMBATE NIVEL 3 ---\n",
            "Jefe con 120 de vida y 35 de defensa\n",
            "Turno 1: Atacas con 90 → Daño real: 55 → Vida restante del jefe: 65\n",
            "Turno 2: Atacas con 90 → Daño real: 55 → Vida restante del jefe: 10\n",
            "Turno 3: Atacas con 90 → Daño real: 55 → Vida restante del jefe: 0\n",
            "¡Has derrotado al jefe de este nivel!\n",
            "\n",
            "¡Has conquistado la Torre de los Hechizos!\n"
          ]
        }
      ]
    },
    {
      "cell_type": "markdown",
      "source": [
        "---\n",
        "\n",
        "# Gracias por completar este laboratorio!\n",
        "\n",
        "---\n"
      ],
      "metadata": {
        "id": "EONqoa25Wlx3"
      }
    }
  ]
}