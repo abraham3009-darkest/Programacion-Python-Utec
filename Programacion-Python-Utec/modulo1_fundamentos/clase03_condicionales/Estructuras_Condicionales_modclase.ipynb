{
  "nbformat": 4,
  "nbformat_minor": 0,
  "metadata": {
    "colab": {
      "provenance": [],
      "authorship_tag": "ABX9TyNqP2nhykT3nZwKTfUS75KJ",
      "include_colab_link": true
    },
    "kernelspec": {
      "name": "python3",
      "display_name": "Python 3"
    },
    "language_info": {
      "name": "python"
    }
  },
  "cells": [
    {
      "cell_type": "markdown",
      "metadata": {
        "id": "view-in-github",
        "colab_type": "text"
      },
      "source": [
        "<a href=\"https://colab.research.google.com/github/john-caballero/Programacion-Python-Utec/blob/main/Programacion-Python-Utec/modulo1_fundamentos/clase03_condicionales/Estructuras_Condicionales_modclase.ipynb.ipynb\" target=\"_parent\"><img src=\"https://colab.research.google.com/assets/colab-badge.svg\" alt=\"Open In Colab\"/></a>"
      ]
    },
    {
      "cell_type": "markdown",
      "source": [
        "<img src=\"https://posgrado.utec.edu.pe/sites/default/files/2023-08/Testimonial-home-2.jpg\" alt=\"HTML5 Icon\" width=\"900\" height=\"250\" >\n"
      ],
      "metadata": {
        "id": "v3JGreO5zErE"
      }
    },
    {
      "cell_type": "markdown",
      "source": [
        "# **Estructuras Condicionales**"
      ],
      "metadata": {
        "id": "A9PFo41IzIqt"
      }
    },
    {
      "cell_type": "markdown",
      "source": [
        "---\n",
        "\n",
        "**Objetivo**\n",
        "\n",
        "- Comprender y aplicar pruebas condicionales usando comparaciones y operadores lógicos.\n",
        "- Utilizar sentencias `if`, `if-else` y `if-elif-else` para controlar el flujo de un programa.\n",
        "- Evaluar condiciones simples, múltiples y compuestas, incluyendo la pertenencia a listas.\n",
        "\n",
        "\n"
      ],
      "metadata": {
        "id": "DVXsQR7LzUZt"
      }
    },
    {
      "cell_type": "markdown",
      "source": [
        "---\n",
        "\n",
        "**Contenido**\n",
        "\n",
        "- 1. Pruebas Condicionales\n",
        "  - Igualdad y desigualdad\n",
        "  - Comparaciones numéricas\n",
        "  - Mayúsculas/minúsculas\n",
        "  - Condiciones múltiples y booleanos\n",
        "  - Verificación en listas\n",
        "- 2. Sentencias IF\n",
        "  - If simple\n",
        "  - If-else\n",
        "  - If-elif-else\n",
        "  - If sin else\n",
        "  - Múltiples if independientes\n",
        "\n",
        "  ---"
      ],
      "metadata": {
        "id": "Imzierfsz88s"
      }
    },
    {
      "cell_type": "markdown",
      "source": [
        "## 1. Pruebas Condicionales\n"
      ],
      "metadata": {
        "id": "lXLgRjAB0HX5"
      }
    },
    {
      "cell_type": "markdown",
      "source": [
        "### 1.1 Comprobar la igualdad\n"
      ],
      "metadata": {
        "id": "cnslePwn0L1e"
      }
    },
    {
      "cell_type": "markdown",
      "source": [
        "Las condiciones permiten verificar si dos valores son exactamente iguales usando `==`. Esta operación es fundamental para evaluar decisiones básicas en programas interactivos.\n"
      ],
      "metadata": {
        "id": "h6BAkjWN0NTh"
      }
    },
    {
      "cell_type": "markdown",
      "source": [
        "**Ejemplo**"
      ],
      "metadata": {
        "id": "HpNwudoq0RcY"
      }
    },
    {
      "cell_type": "code",
      "execution_count": 1,
      "metadata": {
        "id": "EugCWlpFzDDJ"
      },
      "outputs": [],
      "source": [
        "color = 'rojo'"
      ]
    },
    {
      "cell_type": "code",
      "source": [
        "print(color)"
      ],
      "metadata": {
        "colab": {
          "base_uri": "https://localhost:8080/"
        },
        "id": "Xy-StQUL-wLH",
        "outputId": "2f718c3d-f3a9-4d63-97e1-0044d377eec4"
      },
      "execution_count": 2,
      "outputs": [
        {
          "output_type": "stream",
          "name": "stdout",
          "text": [
            "rojo\n"
          ]
        }
      ]
    },
    {
      "cell_type": "code",
      "source": [
        "'rojo' == color"
      ],
      "metadata": {
        "colab": {
          "base_uri": "https://localhost:8080/"
        },
        "id": "j1JJSyoz-6AO",
        "outputId": "4b8a857e-9740-4254-8493-3b8a0c8639e7"
      },
      "execution_count": 6,
      "outputs": [
        {
          "output_type": "execute_result",
          "data": {
            "text/plain": [
              "True"
            ]
          },
          "metadata": {},
          "execution_count": 6
        }
      ]
    },
    {
      "cell_type": "code",
      "source": [
        "type('rojo' == color)"
      ],
      "metadata": {
        "colab": {
          "base_uri": "https://localhost:8080/"
        },
        "id": "laJ7wqhY_jat",
        "outputId": "2effe44e-ee52-402f-b937-9a3e73d6b790"
      },
      "execution_count": 7,
      "outputs": [
        {
          "output_type": "execute_result",
          "data": {
            "text/plain": [
              "bool"
            ]
          },
          "metadata": {},
          "execution_count": 7
        }
      ]
    },
    {
      "cell_type": "code",
      "source": [
        "print(color == 'rojo')  # True"
      ],
      "metadata": {
        "id": "dkWed9JC0WnE"
      },
      "execution_count": null,
      "outputs": []
    },
    {
      "cell_type": "code",
      "source": [
        "print(color == 'verde')  # False"
      ],
      "metadata": {
        "id": "BC1BC9q60V3z"
      },
      "execution_count": null,
      "outputs": []
    },
    {
      "cell_type": "code",
      "source": [
        "age = 26"
      ],
      "metadata": {
        "id": "SjiIREWO_wtU"
      },
      "execution_count": 8,
      "outputs": []
    },
    {
      "cell_type": "code",
      "source": [
        "age == 18"
      ],
      "metadata": {
        "colab": {
          "base_uri": "https://localhost:8080/"
        },
        "id": "B3Lu-pIF_0aZ",
        "outputId": "ea47253f-c18c-404d-b350-4a90a3f422c5"
      },
      "execution_count": 9,
      "outputs": [
        {
          "output_type": "execute_result",
          "data": {
            "text/plain": [
              "False"
            ]
          },
          "metadata": {},
          "execution_count": 9
        }
      ]
    },
    {
      "cell_type": "code",
      "source": [
        "age == 26"
      ],
      "metadata": {
        "colab": {
          "base_uri": "https://localhost:8080/"
        },
        "id": "7r8OqCtc_46h",
        "outputId": "369d7352-7422-4b95-866e-0abcd87ed455"
      },
      "execution_count": 10,
      "outputs": [
        {
          "output_type": "execute_result",
          "data": {
            "text/plain": [
              "True"
            ]
          },
          "metadata": {},
          "execution_count": 10
        }
      ]
    },
    {
      "cell_type": "code",
      "source": [
        "True == True"
      ],
      "metadata": {
        "colab": {
          "base_uri": "https://localhost:8080/"
        },
        "id": "W-q8sE-c__0J",
        "outputId": "3508cd38-ae16-43b1-d125-5e4f53a8b18a"
      },
      "execution_count": 13,
      "outputs": [
        {
          "output_type": "execute_result",
          "data": {
            "text/plain": [
              "True"
            ]
          },
          "metadata": {},
          "execution_count": 13
        }
      ]
    },
    {
      "cell_type": "code",
      "source": [],
      "metadata": {
        "id": "cVA6co-OAWNx"
      },
      "execution_count": null,
      "outputs": []
    },
    {
      "cell_type": "markdown",
      "source": [
        "**Ejercicio 1.1**\n",
        "\n",
        "Declara una variable con tu comida favorita y verifica si es igual a 'pizza'. Imprime un mensaje según el resultado.\n"
      ],
      "metadata": {
        "id": "no3xYmgP0ZdP"
      }
    },
    {
      "cell_type": "code",
      "source": [
        "# Este programa evalua un condicional\n",
        "favorite_food = input(\"What's your favorite food?: \")\n",
        "my_favorite_food = \"pizza\"\n",
        "\n",
        "print(f'Your favorite food is {favorite_food}, the condition is {favorite_food == my_favorite_food}')"
      ],
      "metadata": {
        "id": "gkNmow3a0f1W",
        "colab": {
          "base_uri": "https://localhost:8080/"
        },
        "outputId": "c0c682a7-df82-412a-f947-016da1e2a5eb"
      },
      "execution_count": 16,
      "outputs": [
        {
          "output_type": "stream",
          "name": "stdout",
          "text": [
            "What's your favorite food?: hola\n",
            "Your favorite food is {favorite_food}, the condition is {favorite_food == my_favorite_food}\n"
          ]
        }
      ]
    },
    {
      "cell_type": "code",
      "source": [
        "# Este programa evalua un condicional\n",
        "favorite_food = input(\"What's your favorite food?: \")\n",
        "my_favorite_food = \"pizza\"\n",
        "\n",
        "if favorite_food == my_favorite_food:\n",
        "  print(f'Your favorite food is {favorite_food}!!!!')\n",
        "else:\n",
        "  print(f'Your favorite food is not pizza, is {favorite_food}')"
      ],
      "metadata": {
        "colab": {
          "base_uri": "https://localhost:8080/"
        },
        "id": "EAACE1P_DfDb",
        "outputId": "7aa98e23-9a7b-4d40-fbb0-991ace9cba1b"
      },
      "execution_count": 17,
      "outputs": [
        {
          "output_type": "stream",
          "name": "stdout",
          "text": [
            "What's your favorite food?: Ramen\n",
            "Your favorite food is not pizza, is Ramen\n"
          ]
        }
      ]
    },
    {
      "cell_type": "code",
      "source": [],
      "metadata": {
        "id": "FNnJPPFPDmd6"
      },
      "execution_count": null,
      "outputs": []
    },
    {
      "cell_type": "markdown",
      "source": [
        "### 1.2 Mayúsculas y minúsculas en igualdad\n",
        "\n"
      ],
      "metadata": {
        "id": "FffdvjBt0gS6"
      }
    },
    {
      "cell_type": "markdown",
      "source": [
        "Las cadenas en Python son sensibles a mayúsculas. Para hacer comparaciones insensibles al formato, se puede usar `.lower()` o `.upper()`."
      ],
      "metadata": {
        "id": "BmNqgS540mKz"
      }
    },
    {
      "cell_type": "markdown",
      "source": [
        "**Ejemplo**"
      ],
      "metadata": {
        "id": "DmA3GcBH0vtS"
      }
    },
    {
      "cell_type": "code",
      "source": [
        "animal = 'Gato'"
      ],
      "metadata": {
        "id": "38Q7H1Eo0s8X"
      },
      "execution_count": null,
      "outputs": []
    },
    {
      "cell_type": "code",
      "source": [
        "print(animal == 'gato')        # False"
      ],
      "metadata": {
        "id": "H6ILyOQD0yRV"
      },
      "execution_count": null,
      "outputs": []
    },
    {
      "cell_type": "code",
      "source": [
        "print(animal.lower() == 'gato')  # True"
      ],
      "metadata": {
        "id": "-0cnvpPB0zB6"
      },
      "execution_count": null,
      "outputs": []
    },
    {
      "cell_type": "code",
      "source": [
        "# Este programa evalua un condicional\n",
        "favorite_food = input(\"What's your favorite food?: \").lower().strip()\n",
        "my_favorite_food = \"pizza\"\n",
        "\n",
        "if favorite_food == my_favorite_food:\n",
        "  print(f'Your favorite food is {favorite_food}!!!!')\n",
        "else:\n",
        "  print(f'Your favorite food is not pizza, is {favorite_food}')\n"
      ],
      "metadata": {
        "colab": {
          "base_uri": "https://localhost:8080/"
        },
        "id": "c3kYOUlYEU--",
        "outputId": "5f43d042-54c2-4799-964a-6c60634627d1"
      },
      "execution_count": 21,
      "outputs": [
        {
          "output_type": "stream",
          "name": "stdout",
          "text": [
            "What's your favorite food?:   PizZA     \n",
            "Your favorite food is pizza!!!!\n"
          ]
        }
      ]
    },
    {
      "cell_type": "markdown",
      "source": [
        "**Ejercicio 1.2**\n",
        "\n",
        "Pide al usuario su ciudad favorita y comprueba si es igual a 'lima', ignorando mayúsculas.\n"
      ],
      "metadata": {
        "id": "PmxEydgl02Uk"
      }
    },
    {
      "cell_type": "code",
      "source": [],
      "metadata": {
        "id": "V9iqcPyD0-d9"
      },
      "execution_count": null,
      "outputs": []
    },
    {
      "cell_type": "markdown",
      "source": [
        "### 1.3 Desigualdad\n",
        "\n",
        "El operador `!=` permite comprobar si dos valores son distintos. Es útil cuando queremos ejecutar una acción solo si algo **no** ocurre.\n"
      ],
      "metadata": {
        "id": "UNuwlNiC1BHb"
      }
    },
    {
      "cell_type": "markdown",
      "source": [
        "**Ejemplo**"
      ],
      "metadata": {
        "id": "tJSg4HJy1NnD"
      }
    },
    {
      "cell_type": "code",
      "source": [
        "1 == 2"
      ],
      "metadata": {
        "colab": {
          "base_uri": "https://localhost:8080/"
        },
        "id": "klA9LBBYJaXc",
        "outputId": "8517ea9d-5104-4442-eb2a-8d79d4170260"
      },
      "execution_count": 22,
      "outputs": [
        {
          "output_type": "execute_result",
          "data": {
            "text/plain": [
              "False"
            ]
          },
          "metadata": {},
          "execution_count": 22
        }
      ]
    },
    {
      "cell_type": "code",
      "source": [
        "1 != 2"
      ],
      "metadata": {
        "colab": {
          "base_uri": "https://localhost:8080/"
        },
        "id": "aL0uwiP2JcbD",
        "outputId": "d430cd34-3ff1-4525-b653-4b48ef0dfedc"
      },
      "execution_count": 23,
      "outputs": [
        {
          "output_type": "execute_result",
          "data": {
            "text/plain": [
              "True"
            ]
          },
          "metadata": {},
          "execution_count": 23
        }
      ]
    },
    {
      "cell_type": "code",
      "source": [
        "'Hola' != 6"
      ],
      "metadata": {
        "colab": {
          "base_uri": "https://localhost:8080/"
        },
        "id": "UwSrr5BDJfcf",
        "outputId": "7bf2a2f7-1969-4467-cfee-9a518d71a7a4"
      },
      "execution_count": 24,
      "outputs": [
        {
          "output_type": "execute_result",
          "data": {
            "text/plain": [
              "True"
            ]
          },
          "metadata": {},
          "execution_count": 24
        }
      ]
    },
    {
      "cell_type": "code",
      "source": [
        "lenguaje = 'Python'\n",
        "\n",
        "if lenguaje != 'Java':\n",
        "    print(\"Estás aprendiendo un buen lenguaje.\")\n",
        ""
      ],
      "metadata": {
        "id": "Zf4b76Tf1Cui"
      },
      "execution_count": null,
      "outputs": []
    },
    {
      "cell_type": "markdown",
      "source": [
        "**Ejercicio 1.3**\n",
        "\n",
        "Crea una variable con tu deporte favorito y verifica que no sea \"fútbol\". Imprime un mensaje adecuado.\n"
      ],
      "metadata": {
        "id": "3FDNFb-71RCT"
      }
    },
    {
      "cell_type": "code",
      "source": [],
      "metadata": {
        "id": "Z2OcAhqh1Tcc"
      },
      "execution_count": null,
      "outputs": []
    },
    {
      "cell_type": "markdown",
      "source": [
        "### 1.4 Comparaciones numéricas\n",
        "\n",
        "Permiten comparar valores numéricos para establecer relaciones como mayor, menor o igual. Esto es clave en validaciones, rangos y lógica de negocio.\n"
      ],
      "metadata": {
        "id": "FZiB43wL1T21"
      }
    },
    {
      "cell_type": "markdown",
      "source": [
        "**Ejemplo**"
      ],
      "metadata": {
        "id": "2RqXr4Jg3eGO"
      }
    },
    {
      "cell_type": "code",
      "source": [
        "edad = 18\n",
        "if edad >= 18:\n",
        "  print(\"Eres mayor de edad.\")"
      ],
      "metadata": {
        "id": "awVISLb61XGY",
        "colab": {
          "base_uri": "https://localhost:8080/"
        },
        "outputId": "8105adea-5756-4614-895b-1f63b6fe8642"
      },
      "execution_count": 33,
      "outputs": [
        {
          "output_type": "stream",
          "name": "stdout",
          "text": [
            "Eres mayor de edad.\n"
          ]
        }
      ]
    },
    {
      "cell_type": "code",
      "source": [
        "'a' > 'b'"
      ],
      "metadata": {
        "colab": {
          "base_uri": "https://localhost:8080/"
        },
        "id": "6M9MyTOeKBYi",
        "outputId": "e4ebc189-3e50-495f-ee01-543b844dcc35"
      },
      "execution_count": 26,
      "outputs": [
        {
          "output_type": "execute_result",
          "data": {
            "text/plain": [
              "False"
            ]
          },
          "metadata": {},
          "execution_count": 26
        }
      ]
    },
    {
      "cell_type": "code",
      "source": [
        "'a' <= 'a'"
      ],
      "metadata": {
        "colab": {
          "base_uri": "https://localhost:8080/"
        },
        "id": "CkODbuZfKFJS",
        "outputId": "6a85e874-1dc4-4e35-ba88-19ff640fc95e"
      },
      "execution_count": 30,
      "outputs": [
        {
          "output_type": "execute_result",
          "data": {
            "text/plain": [
              "True"
            ]
          },
          "metadata": {},
          "execution_count": 30
        }
      ]
    },
    {
      "cell_type": "markdown",
      "source": [
        "**Ejercicio 1.4**\n",
        "\n",
        "Verifica si una persona puede jubilarse (edad mayor o igual a 65). Imprime un mensaje.\n"
      ],
      "metadata": {
        "id": "QyzSWy7a24eC"
      }
    },
    {
      "cell_type": "code",
      "source": [
        "# usando input\n",
        "\n",
        "edad = int(input('¿Cuál es su edad?: '))\n",
        "if edad >= 65:\n",
        "  print('Puede jubilarse')\n",
        "else:\n",
        "  print('No puede jubilarse')\n",
        "\n"
      ],
      "metadata": {
        "id": "d4SSysS_26x_",
        "colab": {
          "base_uri": "https://localhost:8080/"
        },
        "outputId": "d6db6193-c9d3-420b-f0e6-ebb3b10fe792"
      },
      "execution_count": 41,
      "outputs": [
        {
          "output_type": "stream",
          "name": "stdout",
          "text": [
            "¿Cuál es su edad?: 5\n",
            "No puede jubilarse\n"
          ]
        }
      ]
    },
    {
      "cell_type": "markdown",
      "source": [
        "### 1.5 Comprobar varias condiciones\n",
        "\n",
        "Usamos operadores lógicos para combinar condiciones. `and` exige que ambas sean verdaderas; `or`, que al menos una lo sea; `not` invierte el valor lógico.\n"
      ],
      "metadata": {
        "id": "0T7KPhzJ286B"
      }
    },
    {
      "cell_type": "code",
      "source": [
        "age = 25\n",
        "licencia = True\n",
        "vivienda = 'renta'\n",
        "\n",
        "(age >= 18) and (licencia == True) and (vivienda == 'propia')\n"
      ],
      "metadata": {
        "colab": {
          "base_uri": "https://localhost:8080/"
        },
        "id": "36nA1IVWQj3Q",
        "outputId": "f721778a-87ed-422e-cd7e-e357c1978188"
      },
      "execution_count": 44,
      "outputs": [
        {
          "output_type": "execute_result",
          "data": {
            "text/plain": [
              "False"
            ]
          },
          "metadata": {},
          "execution_count": 44
        }
      ]
    },
    {
      "cell_type": "code",
      "source": [
        "a = (age >= 18)\n",
        "b = (licencia == True)\n",
        "c = (vivienda == 'propia')\n"
      ],
      "metadata": {
        "id": "ftAEKfUYSrG7"
      },
      "execution_count": 53,
      "outputs": []
    },
    {
      "cell_type": "code",
      "source": [
        "a"
      ],
      "metadata": {
        "colab": {
          "base_uri": "https://localhost:8080/"
        },
        "id": "QKLI008cTW8w",
        "outputId": "e93854a8-554e-4b4b-ed49-4155f3c0acb9"
      },
      "execution_count": 55,
      "outputs": [
        {
          "output_type": "execute_result",
          "data": {
            "text/plain": [
              "True"
            ]
          },
          "metadata": {},
          "execution_count": 55
        }
      ]
    },
    {
      "cell_type": "code",
      "source": [
        "b"
      ],
      "metadata": {
        "colab": {
          "base_uri": "https://localhost:8080/"
        },
        "id": "2i__zhr2TYoF",
        "outputId": "c46cc963-15df-40c0-f85f-54a227e3c5d4"
      },
      "execution_count": 56,
      "outputs": [
        {
          "output_type": "execute_result",
          "data": {
            "text/plain": [
              "True"
            ]
          },
          "metadata": {},
          "execution_count": 56
        }
      ]
    },
    {
      "cell_type": "code",
      "source": [
        "c"
      ],
      "metadata": {
        "colab": {
          "base_uri": "https://localhost:8080/"
        },
        "id": "DqQa6TfzTZ-U",
        "outputId": "968e116d-23e4-461e-f252-213163ecff8c"
      },
      "execution_count": 57,
      "outputs": [
        {
          "output_type": "execute_result",
          "data": {
            "text/plain": [
              "False"
            ]
          },
          "metadata": {},
          "execution_count": 57
        }
      ]
    },
    {
      "cell_type": "code",
      "source": [
        "if a + b + c >= 2:\n",
        "  print('cumples por lo menos 2 condiciones, apruebas el crédito!!')"
      ],
      "metadata": {
        "colab": {
          "base_uri": "https://localhost:8080/"
        },
        "id": "InOW5nETS_G7",
        "outputId": "0d58ed86-0c5a-4ee5-a607-c1b8cb095c10"
      },
      "execution_count": 58,
      "outputs": [
        {
          "output_type": "stream",
          "name": "stdout",
          "text": [
            "cumples por lo menos 2 condiciones, apruebas el crédito!!\n"
          ]
        }
      ]
    },
    {
      "cell_type": "code",
      "source": [
        "(age >= 18) or (licencia == False)\n"
      ],
      "metadata": {
        "colab": {
          "base_uri": "https://localhost:8080/"
        },
        "id": "qLm8GemRSKdn",
        "outputId": "edf4b9bb-fad7-45f0-bc87-ea79dd83c5bd"
      },
      "execution_count": 51,
      "outputs": [
        {
          "output_type": "execute_result",
          "data": {
            "text/plain": [
              "True"
            ]
          },
          "metadata": {},
          "execution_count": 51
        }
      ]
    },
    {
      "cell_type": "code",
      "source": [
        "(age >= 18) & (licencia == True)"
      ],
      "metadata": {
        "colab": {
          "base_uri": "https://localhost:8080/"
        },
        "id": "3dBaLTlXUMt7",
        "outputId": "2bfea794-4056-41d0-fb84-dc03e4c3b40d"
      },
      "execution_count": 59,
      "outputs": [
        {
          "output_type": "execute_result",
          "data": {
            "text/plain": [
              "False"
            ]
          },
          "metadata": {},
          "execution_count": 59
        }
      ]
    },
    {
      "cell_type": "code",
      "source": [
        "(age >= 18) | (licencia == True)"
      ],
      "metadata": {
        "colab": {
          "base_uri": "https://localhost:8080/"
        },
        "id": "702_VfUfUWLB",
        "outputId": "3a12aaf4-3bd4-4a3e-a514-3c549c40da9d"
      },
      "execution_count": 61,
      "outputs": [
        {
          "output_type": "execute_result",
          "data": {
            "text/plain": [
              "True"
            ]
          },
          "metadata": {},
          "execution_count": 61
        }
      ]
    },
    {
      "cell_type": "code",
      "source": [
        "# True and True = True\n",
        "# True and False = False\n",
        "# False and True = False\n",
        "# False and False = False"
      ],
      "metadata": {
        "id": "IXzXnYEBSYn2"
      },
      "execution_count": null,
      "outputs": []
    },
    {
      "cell_type": "code",
      "source": [
        "# True or True = True\n",
        "# True or False = True\n",
        "# False or True = True\n",
        "# False or False = False"
      ],
      "metadata": {
        "id": "1iQN4fAvShFV"
      },
      "execution_count": null,
      "outputs": []
    },
    {
      "cell_type": "markdown",
      "source": [
        "**Ejemplo**"
      ],
      "metadata": {
        "id": "4wjYI1Y53cP2"
      }
    },
    {
      "cell_type": "code",
      "source": [
        "\n",
        "if True:\n",
        "  print('hola')\n"
      ],
      "metadata": {
        "colab": {
          "base_uri": "https://localhost:8080/"
        },
        "id": "QVgn0snERnIF",
        "outputId": "379c3dfa-4718-41c1-aa7b-49d4f43d3cf7"
      },
      "execution_count": 47,
      "outputs": [
        {
          "output_type": "stream",
          "name": "stdout",
          "text": [
            "hola\n"
          ]
        }
      ]
    },
    {
      "cell_type": "code",
      "source": [
        "licencia = True\n",
        "if licencia:\n",
        "  print(\"Puedes conducir.\")"
      ],
      "metadata": {
        "colab": {
          "base_uri": "https://localhost:8080/"
        },
        "id": "nbhDIDokR2WY",
        "outputId": "2f5b2b1c-95ef-4f7e-f720-8a75c51cae23"
      },
      "execution_count": 48,
      "outputs": [
        {
          "output_type": "stream",
          "name": "stdout",
          "text": [
            "Puedes conducir.\n"
          ]
        }
      ]
    },
    {
      "cell_type": "code",
      "source": [
        "edad = 20\n",
        "licencia = True\n",
        "if edad >= 18 and licencia:\n",
        "    print(\"Puedes conducir.\")"
      ],
      "metadata": {
        "id": "bOSv8rYH2-9S",
        "colab": {
          "base_uri": "https://localhost:8080/"
        },
        "outputId": "727a2fef-6294-4a8a-860b-e4c6385f3760"
      },
      "execution_count": 50,
      "outputs": [
        {
          "output_type": "stream",
          "name": "stdout",
          "text": [
            "Puedes conducir.\n"
          ]
        }
      ]
    },
    {
      "cell_type": "markdown",
      "source": [
        "**Ejercicio 1.5**\n",
        "\n",
        "Simula que una persona puede conducir si tiene más de 18 años **y** licencia vigente. Usa variables para edad y licencia.\n"
      ],
      "metadata": {
        "id": "gRPgH_4N3IMD"
      }
    },
    {
      "cell_type": "code",
      "source": [],
      "metadata": {
        "id": "P8tmK2Xp3K4U"
      },
      "execution_count": null,
      "outputs": []
    },
    {
      "cell_type": "markdown",
      "source": [
        "### 1.6 Comprobar si hay un valor en una lista\n",
        "\n",
        "Con `in` podemos verificar si un elemento existe en una lista. Es muy útil para filtros y validaciones.\n"
      ],
      "metadata": {
        "id": "MKNF_Bx03NOY"
      }
    },
    {
      "cell_type": "markdown",
      "source": [
        "**Ejemplo**"
      ],
      "metadata": {
        "id": "heZom_TW3Zwx"
      }
    },
    {
      "cell_type": "code",
      "source": [
        "frutas = ['manzana', 'plátano', 'naranja']\n",
        "if 'manzana' in frutas:\n",
        "    print(\"Tenemos manzanas en stock.\")"
      ],
      "metadata": {
        "id": "bdGURTNk3TyN"
      },
      "execution_count": null,
      "outputs": []
    },
    {
      "cell_type": "markdown",
      "source": [
        "**Ejercicio 1.6**\n",
        "\n",
        "Verifica si \"mate\" está en una lista de infusiones disponibles. Imprime un mensaje si está o no está.\n"
      ],
      "metadata": {
        "id": "TPYPzodl3iCS"
      }
    },
    {
      "cell_type": "code",
      "source": [
        "var = 'Mate'\n",
        "var.lower() in [\"manzanilla\", \"toronjil\", \"café\", \"té verde\", 'mate']"
      ],
      "metadata": {
        "id": "7uBF9QiZWOEH",
        "outputId": "463c753d-bd1d-42f5-a10f-47531b52f6fe",
        "colab": {
          "base_uri": "https://localhost:8080/",
          "height": 141
        }
      },
      "execution_count": 67,
      "outputs": [
        {
          "output_type": "error",
          "ename": "AttributeError",
          "evalue": "'list' object has no attribute 'lower'",
          "traceback": [
            "\u001b[0;31m---------------------------------------------------------------------------\u001b[0m",
            "\u001b[0;31mAttributeError\u001b[0m                            Traceback (most recent call last)",
            "\u001b[0;32m<ipython-input-67-648fe8419cf5>\u001b[0m in \u001b[0;36m<cell line: 0>\u001b[0;34m()\u001b[0m\n\u001b[0;32m----> 1\u001b[0;31m \u001b[0;34m[\u001b[0m\u001b[0;34m\"manzanilla\"\u001b[0m\u001b[0;34m,\u001b[0m \u001b[0;34m\"toronjil\"\u001b[0m\u001b[0;34m,\u001b[0m \u001b[0;34m\"café\"\u001b[0m\u001b[0;34m,\u001b[0m \u001b[0;34m\"té verde\"\u001b[0m\u001b[0;34m,\u001b[0m \u001b[0;34m'mate'\u001b[0m\u001b[0;34m]\u001b[0m\u001b[0;34m.\u001b[0m\u001b[0mlower\u001b[0m\u001b[0;34m(\u001b[0m\u001b[0;34m)\u001b[0m\u001b[0;34m\u001b[0m\u001b[0;34m\u001b[0m\u001b[0m\n\u001b[0m",
            "\u001b[0;31mAttributeError\u001b[0m: 'list' object has no attribute 'lower'"
          ]
        }
      ]
    },
    {
      "cell_type": "code",
      "source": [
        "infusiones_disponibles = [\"manzanilla\", \"toronjil\", \"café\", \"té verde\"]\n",
        "\n",
        "if 'mate' in infusiones_disponibles:\n",
        "  print('el mate esta en stock!!!, ¿Cuántos desea llevar?')\n",
        ""
      ],
      "metadata": {
        "id": "HYSVzaky3kBw"
      },
      "execution_count": 69,
      "outputs": []
    },
    {
      "cell_type": "code",
      "source": [
        "if 'mate' not in infusiones_disponibles:\n",
        "  print('lo sentimos, el mate esta fuera de stock')"
      ],
      "metadata": {
        "id": "06ksCy9fVzyB",
        "outputId": "e413d94d-74b8-4704-c8a1-fc5ef190dfc6",
        "colab": {
          "base_uri": "https://localhost:8080/"
        }
      },
      "execution_count": 71,
      "outputs": [
        {
          "output_type": "stream",
          "name": "stdout",
          "text": [
            "lo sentimos, el mate esta fuera de stock\n"
          ]
        }
      ]
    },
    {
      "cell_type": "markdown",
      "source": [
        "### 1.7 Comprobar si un valor no está en una lista\n",
        "\n",
        "Usamos `not in` para comprobar la ausencia de un elemento. Muy útil para listas de prohibiciones o restricciones.\n"
      ],
      "metadata": {
        "id": "pQxz65fy3nF6"
      }
    },
    {
      "cell_type": "markdown",
      "source": [
        "**Ejemplo**"
      ],
      "metadata": {
        "id": "xSeV9VS43pQt"
      }
    },
    {
      "cell_type": "code",
      "source": [
        "alergenos = ['gluten', 'lácteos']\n",
        "if 'soya' not in alergenos:\n",
        "    print(\"Puede consumir el producto.\")"
      ],
      "metadata": {
        "id": "Z1BVOROT3qlb"
      },
      "execution_count": null,
      "outputs": []
    },
    {
      "cell_type": "markdown",
      "source": [
        "**Ejercicio 1.7**\n",
        "\n",
        "Verifica que \"maní\" no esté en una lista de ingredientes seguros. Imprime un mensaje.\n"
      ],
      "metadata": {
        "id": "kiXSC0tu3sl1"
      }
    },
    {
      "cell_type": "code",
      "source": [],
      "metadata": {
        "id": "Lg7mrplP3yZL"
      },
      "execution_count": null,
      "outputs": []
    },
    {
      "cell_type": "markdown",
      "source": [
        "### 1.8 Expresiones booleanas\n",
        "\n",
        "Una condición en Python siempre se evalúa como `True` o `False`, lo cual se conoce como valor booleano. Podemos almacenarlo y reutilizarlo.\n"
      ],
      "metadata": {
        "id": "OS-idh5Y3x4a"
      }
    },
    {
      "cell_type": "markdown",
      "source": [
        "**Ejemplo**"
      ],
      "metadata": {
        "id": "zwZz0Q5132yO"
      }
    },
    {
      "cell_type": "code",
      "source": [
        "es_adulto = 25 >= 18\n",
        "print(es_adulto)  # True"
      ],
      "metadata": {
        "id": "e4L-ydsV32Vf"
      },
      "execution_count": null,
      "outputs": []
    },
    {
      "cell_type": "markdown",
      "source": [
        "**Ejercicio 1.8**\n",
        "\n",
        "Declara tres expresiones booleanas diferentes y muestra sus valores con `print()`.\n"
      ],
      "metadata": {
        "id": "mJvGwgKL36cY"
      }
    },
    {
      "cell_type": "code",
      "source": [],
      "metadata": {
        "id": "pfLn67qN3-7S"
      },
      "execution_count": null,
      "outputs": []
    },
    {
      "cell_type": "markdown",
      "source": [
        "## 2. Sentencias IF\n"
      ],
      "metadata": {
        "id": "M99-9Dbr3_SI"
      }
    },
    {
      "cell_type": "markdown",
      "source": [
        "### 2.1 Sentencias if simples\n",
        "\n",
        "La sentencia `if` ejecuta un bloque solo si se cumple una condición. Es la base de toda toma de decisiones."
      ],
      "metadata": {
        "id": "pn20U5EO4NsA"
      }
    },
    {
      "cell_type": "markdown",
      "source": [
        "**Ejemplo**"
      ],
      "metadata": {
        "id": "H9_p12n34Typ"
      }
    },
    {
      "cell_type": "code",
      "source": [
        "numero = 10\n",
        "if numero > 0:\n",
        "  print(\"Es positivo\")"
      ],
      "metadata": {
        "id": "UZqqFXbL4YTl",
        "colab": {
          "base_uri": "https://localhost:8080/"
        },
        "outputId": "b37774c3-a859-4ade-8377-0574f8748f16"
      },
      "execution_count": 37,
      "outputs": [
        {
          "output_type": "stream",
          "name": "stdout",
          "text": [
            "Es positivo\n"
          ]
        }
      ]
    },
    {
      "cell_type": "markdown",
      "source": [
        "**Ejercicio 2.1**\n",
        "\n",
        "Verifica si un número ingresado es par. Si lo es, muestra un mensaje confirmándolo.\n"
      ],
      "metadata": {
        "id": "RBI-TsFE4aje"
      }
    },
    {
      "cell_type": "code",
      "source": [],
      "metadata": {
        "id": "ISQlf54J4eOp"
      },
      "execution_count": null,
      "outputs": []
    },
    {
      "cell_type": "markdown",
      "source": [
        "\n",
        "### 2.2 Sentencias if dobles\n",
        "\n",
        "Con `if-else`, se ejecuta un bloque si la condición se cumple, y otro si no.\n",
        "\n"
      ],
      "metadata": {
        "id": "2my1bYQb4eld"
      }
    },
    {
      "cell_type": "markdown",
      "source": [
        "**Ejemplo**\n"
      ],
      "metadata": {
        "id": "mca7Lbjk4j2C"
      }
    },
    {
      "cell_type": "code",
      "source": [
        "nota = int(input('ingresa tu nota: '))\n",
        "\n",
        "if nota >= 11:\n",
        "    print(\"Felicidades!, estás aprobado\")\n",
        "else:\n",
        "    print(\"Lo sentimos, estás desaprobado\")\n",
        "\n",
        "print('proceso terminado')"
      ],
      "metadata": {
        "id": "-9EGhvKg4ofZ",
        "colab": {
          "base_uri": "https://localhost:8080/"
        },
        "outputId": "9c8ba8ad-fbfd-4fa5-be1e-e47886e28673"
      },
      "execution_count": 75,
      "outputs": [
        {
          "output_type": "stream",
          "name": "stdout",
          "text": [
            "ingresa tu nota: 5\n",
            "Lo sentimos, estás desaprobado\n",
            "proceso terminado\n"
          ]
        }
      ]
    },
    {
      "cell_type": "markdown",
      "source": [
        "**Ejercicio 2.2**\n",
        "\n",
        "Simula una validación de edad para entrar a una película para mayores de edad. Muestra si puede o no ingresar."
      ],
      "metadata": {
        "id": "DN6LoT8U4qKS"
      }
    },
    {
      "cell_type": "code",
      "source": [
        "#\n"
      ],
      "metadata": {
        "id": "RlSLMcO24yN0"
      },
      "execution_count": null,
      "outputs": []
    },
    {
      "cell_type": "markdown",
      "source": [
        "\n",
        "### 2.3 Sentencias if múltiples\n",
        "\n",
        "Con `if-elif-else` puedes evaluar múltiples condiciones secuenciales. Se ejecuta solo el primer bloque verdadero.\n"
      ],
      "metadata": {
        "id": "CCfgZ5I844cm"
      }
    },
    {
      "cell_type": "code",
      "source": [
        "a = '8.8'\n",
        "float(a)"
      ],
      "metadata": {
        "id": "1trjlFPRdYdI",
        "outputId": "8f7f8f4a-5874-4043-9e39-4a8902876f20",
        "colab": {
          "base_uri": "https://localhost:8080/"
        }
      },
      "execution_count": 85,
      "outputs": [
        {
          "output_type": "execute_result",
          "data": {
            "text/plain": [
              "8.8"
            ]
          },
          "metadata": {},
          "execution_count": 85
        }
      ]
    },
    {
      "cell_type": "code",
      "source": [
        "nota = float(input('ingresa tu nota: '))\n",
        "\n",
        "if nota > 20 or nota < 0:\n",
        "    print(\"Ingrese una nota válida!!\")\n",
        "elif nota >= 18:\n",
        "    print(\"Increible!, tu nota es realmente sobresaliente!!!!\")\n",
        "elif nota >= 11:\n",
        "    print(\"Felicidades!, estás aprobado\")\n",
        "elif nota >= 8:\n",
        "    print(\"No estas aprobado pero puedes dar sustitutorio\")\n",
        "else:\n",
        "    print(\"Lo sentimos, estás desaprobado\")\n",
        "\n",
        "print('proceso terminado')"
      ],
      "metadata": {
        "id": "BRk8nZVp45z2",
        "colab": {
          "base_uri": "https://localhost:8080/"
        },
        "outputId": "98718e05-299a-48c7-e374-d7cfa1c3c24b"
      },
      "execution_count": 86,
      "outputs": [
        {
          "output_type": "stream",
          "name": "stdout",
          "text": [
            "ingresa tu nota: 14.5\n",
            "Felicidades!, estás aprobado\n",
            "proceso terminado\n"
          ]
        }
      ]
    },
    {
      "cell_type": "markdown",
      "source": [
        "**Ejemplo**"
      ],
      "metadata": {
        "id": "BdJCoG6c5E44"
      }
    },
    {
      "cell_type": "code",
      "source": [
        "velocidad = 90\n",
        "if velocidad > 120:\n",
        "    print(\"Multa grave\")\n",
        "elif velocidad > 90:\n",
        "    print(\"Advertencia\")\n",
        "else:\n",
        "    print(\"Todo bien\")"
      ],
      "metadata": {
        "id": "exfBK3Iu5J0E"
      },
      "execution_count": null,
      "outputs": []
    },
    {
      "cell_type": "markdown",
      "source": [
        "**Ejercicio 2.3**\n",
        "\n",
        "Clasifica una nota en letras:\n",
        "- A (≥18)\n",
        "- B (≥14)\n",
        "- C (≥10)\n",
        "- D (<10)\n"
      ],
      "metadata": {
        "id": "pDEKm_Zp5V3B"
      }
    },
    {
      "cell_type": "code",
      "source": [],
      "metadata": {
        "id": "Uu6cO8dj5Yis"
      },
      "execution_count": null,
      "outputs": []
    },
    {
      "cell_type": "markdown",
      "source": [
        "### 2.4 Omitir el bloque else\n",
        "\n",
        "En ocasiones, solo se requiere una acción si la condición es verdadera. No se necesita cubrir el caso contrario."
      ],
      "metadata": {
        "id": "THluc0oi5d6I"
      }
    },
    {
      "cell_type": "markdown",
      "source": [
        "**Ejemplo**\n"
      ],
      "metadata": {
        "id": "lpVDqa7N5gnQ"
      }
    },
    {
      "cell_type": "code",
      "source": [
        "usuario = 'admin'\n",
        "if usuario == 'admin':\n",
        "    print(\"Bienvenido, administrador.\")"
      ],
      "metadata": {
        "id": "Cfjj5cNR5mSi"
      },
      "execution_count": null,
      "outputs": []
    },
    {
      "cell_type": "markdown",
      "source": [
        "**Ejercicio 2.4**\n",
        "\n",
        "Muestra un mensaje especial si el usuario ingresado es \"profesor\"."
      ],
      "metadata": {
        "id": "c2glYtdT5pTl"
      }
    },
    {
      "cell_type": "code",
      "source": [],
      "metadata": {
        "id": "zF4zhZ5K5y2K"
      },
      "execution_count": null,
      "outputs": []
    },
    {
      "cell_type": "markdown",
      "source": [
        "\n",
        "### 2.5 Probar múltiples condiciones\n",
        "\n",
        "A veces queremos evaluar varias condiciones, **independientes entre sí**. Usamos múltiples `if`, no `elif`.\n"
      ],
      "metadata": {
        "id": "KZFE5bGa50gD"
      }
    },
    {
      "cell_type": "markdown",
      "source": [
        "**Ejemplo**"
      ],
      "metadata": {
        "id": "2IHxBKiK51sk"
      }
    },
    {
      "cell_type": "code",
      "source": [
        "edad = 20\n",
        "if edad >= 18:\n",
        "    print(\"Es mayor de edad\")\n",
        "if edad >= 16:\n",
        "    print(\"Puede conducir\")"
      ],
      "metadata": {
        "id": "ryKiRLWd55MI"
      },
      "execution_count": null,
      "outputs": []
    },
    {
      "cell_type": "markdown",
      "source": [
        "**Ejercicio 2.5**\n",
        "\n",
        "Evalúa separadamente si una persona:\n",
        "- Es mayor de edad (`edad >= 18`)\n",
        "- Puede votar (`edad >= 18`)\n",
        "- Puede conducir (`edad >= 16`)"
      ],
      "metadata": {
        "id": "CTqMD7WN565s"
      }
    },
    {
      "cell_type": "code",
      "source": [],
      "metadata": {
        "id": "D-h0W-sX58rm"
      },
      "execution_count": null,
      "outputs": []
    },
    {
      "cell_type": "markdown",
      "source": [
        "**Reto 1**\n",
        "\n",
        "Imagina que un extraterrestre acaba de ser derribado en un juego. Cree una variable llamada alien_color y asígnele un valor de 'verde', 'amarillo' o 'rojo'.\n",
        "\n",
        "Escribe una declaración if para probar si el color del extraterrestre es verde. Si es así, imprime un mensaje de que el jugador acaba de ganar 5 puntos."
      ],
      "metadata": {
        "id": "VRh_bkR86d9b"
      }
    },
    {
      "cell_type": "code",
      "source": [],
      "metadata": {
        "id": "0h5aKbTt6geM"
      },
      "execution_count": null,
      "outputs": []
    },
    {
      "cell_type": "markdown",
      "source": [
        "\n",
        "\n",
        "**Reto 2**\n",
        "\n",
        "Elija un color para un extraterrestre como lo hizo en el Ejercicio anterior y escriba una cadena if-else.\n",
        "\n",
        "Si el alienígena es verde, imprime un mensaje de que el jugador obtuvo 5 puntos. Si el alienígena es amarillo, imprime un mensaje de que el jugador obtuvo 10 puntos. Si el alienígena es rojo, imprime un mensaje de que el jugador obtuvo 15 puntos.\n"
      ],
      "metadata": {
        "id": "bn42R8XB6csW"
      }
    },
    {
      "cell_type": "code",
      "source": [],
      "metadata": {
        "id": "7Ez0OH9_6jyC"
      },
      "execution_count": null,
      "outputs": []
    },
    {
      "cell_type": "markdown",
      "source": [
        "**Reto 3**\n",
        "\n",
        "Pregunte al usuario su edad, si esta es mayor igual a 18 años, imprima un mensaje que indique que puede votar, si la presona es menor que 18 años ,imprima un mensaje de que aun no cumple mayoría de edad, finalmente si la persona supera los 65 años, imprima un mensaje de que supera el umbral de edad para votar.\n",
        "\n",
        "Extra: A las personas que sean aptas para votar preguntele su candidato y guadelo en una lista la cual se imprimirá el finalizar el programa."
      ],
      "metadata": {
        "id": "DI_UqvW46kYV"
      }
    },
    {
      "cell_type": "code",
      "source": [],
      "metadata": {
        "id": "BqNiZanB6oQA"
      },
      "execution_count": null,
      "outputs": []
    },
    {
      "cell_type": "markdown",
      "source": [
        "---\n",
        "\n",
        "# Conclusión\n",
        "\n",
        "A lo largo de este laboratorio, aprendiste a usar **estructuras condicionales** para que tus programas tomen decisiones en función de distintos criterios. Dominar las pruebas condicionales y las sentencias **`if`** es esencial para construir programas dinámicos, inteligentes y adaptables. Estas habilidades serán la base para los siguientes temas del curso.\n",
        "\n",
        "\n",
        "---\n"
      ],
      "metadata": {
        "id": "7FrX1o7Y6L-H"
      }
    },
    {
      "cell_type": "markdown",
      "source": [
        "---\n",
        "\n",
        "# Gracias por completar este laboratorio!\n",
        "\n",
        "---\n"
      ],
      "metadata": {
        "id": "whQxk9Rn6Zlv"
      }
    }
  ]
}
