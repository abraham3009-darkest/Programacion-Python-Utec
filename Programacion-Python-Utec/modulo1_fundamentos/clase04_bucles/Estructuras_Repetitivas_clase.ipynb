{
  "nbformat": 4,
  "nbformat_minor": 0,
  "metadata": {
    "colab": {
      "provenance": [],
      "authorship_tag": "ABX9TyOJ0DKuu/AFBS+8hXd3ErYQ",
      "include_colab_link": true
    },
    "kernelspec": {
      "name": "python3",
      "display_name": "Python 3"
    },
    "language_info": {
      "name": "python"
    }
  },
  "cells": [
    {
      "cell_type": "markdown",
      "metadata": {
        "id": "view-in-github",
        "colab_type": "text"
      },
      "source": [
        "<a href=\"https://colab.research.google.com/github/john-caballero/Programacion-Python-Utec/blob/main/Programacion-Python-Utec/modulo1_fundamentos/clase04_bucles/Estructuras_Repetitivas_clase.ipynb\" target=\"_parent\"><img src=\"https://colab.research.google.com/assets/colab-badge.svg\" alt=\"Open In Colab\"/></a>"
      ]
    },
    {
      "cell_type": "markdown",
      "source": [
        "<img src=\"https://posgrado.utec.edu.pe/sites/default/files/2023-08/Testimonial-home-2.jpg\" alt=\"HTML5 Icon\" width=\"900\" height=\"250\" >\n"
      ],
      "metadata": {
        "id": "18v8Y4Ho6Coz"
      }
    },
    {
      "cell_type": "markdown",
      "source": [
        "# **Estructuras Repetitivas**\n"
      ],
      "metadata": {
        "id": "3aOR6rX86FIO"
      }
    },
    {
      "cell_type": "markdown",
      "source": [
        "**Objetivos**\n",
        "\n",
        "- Comprender el funcionamiento detallado de los bucles `while` y `for` en Python.\n",
        "- Controlar flujos repetitivos con banderas, `break` y `continue`.\n",
        "- Desarrollar habilidades prácticas en resolución de problemas utilizando estructuras repetitivas.\n",
        "\n",
        "---"
      ],
      "metadata": {
        "id": "yvkULT4_6OON"
      }
    },
    {
      "cell_type": "markdown",
      "source": [
        "**Contenido**\n",
        "\n",
        "- 1. Bucle `while`\n",
        "- 2. Dejar que el usuario decida cuándo salir\n",
        "- 3. Uso de bandera (flag)\n",
        "- 4. Uso de `break`\n",
        "- 5. Uso de `continue`\n",
        "- 6. Bucle `for`\n",
        "- 7. Bucle `for` con `range()`\n",
        "- 8. Ejercicios de reto final"
      ],
      "metadata": {
        "id": "vC9JHrQ06UNL"
      }
    },
    {
      "cell_type": "markdown",
      "source": [
        "## 1. Bucle `while`\n"
      ],
      "metadata": {
        "id": "oscManXk6ZmY"
      }
    },
    {
      "cell_type": "markdown",
      "source": [
        "El bucle `while` repite acciones mientras una condición sea verdadera. Es ideal cuando no sabemos previamente cuántas veces se repetirá.\n"
      ],
      "metadata": {
        "id": "U9GbyDk86bxp"
      }
    },
    {
      "cell_type": "markdown",
      "source": [
        "**Ejemplo 1.1**\n"
      ],
      "metadata": {
        "id": "deNpmxkP6e0D"
      }
    },
    {
      "cell_type": "code",
      "source": [
        "contador = 0\n",
        "\n",
        "while contador < 10:\n",
        "  print(f'El valor del contador es: {contador}')\n",
        "  contador += 1 #contador = contador + 1"
      ],
      "metadata": {
        "colab": {
          "base_uri": "https://localhost:8080/"
        },
        "id": "0suoodYXASmY",
        "outputId": "95797031-45d2-476a-aece-3a506e3279fe"
      },
      "execution_count": 3,
      "outputs": [
        {
          "output_type": "stream",
          "name": "stdout",
          "text": [
            "El valor del contador es: 0\n",
            "El valor del contador es: 1\n",
            "El valor del contador es: 2\n",
            "El valor del contador es: 3\n",
            "El valor del contador es: 4\n",
            "El valor del contador es: 5\n",
            "El valor del contador es: 6\n",
            "El valor del contador es: 7\n",
            "El valor del contador es: 8\n",
            "El valor del contador es: 9\n"
          ]
        }
      ]
    },
    {
      "cell_type": "code",
      "source": [
        "print(contador)"
      ],
      "metadata": {
        "colab": {
          "base_uri": "https://localhost:8080/"
        },
        "id": "zK1J5rYwDK_X",
        "outputId": "ded78d6b-5700-4860-bc9b-f229f447afe7"
      },
      "execution_count": 4,
      "outputs": [
        {
          "output_type": "stream",
          "name": "stdout",
          "text": [
            "10\n"
          ]
        }
      ]
    },
    {
      "cell_type": "code",
      "execution_count": 5,
      "metadata": {
        "id": "kyekYQu95xx9",
        "colab": {
          "base_uri": "https://localhost:8080/"
        },
        "outputId": "476f204c-a92b-4ee9-a141-fbb969ab6078"
      },
      "outputs": [
        {
          "output_type": "stream",
          "name": "stdout",
          "text": [
            "Número actual: 1\n",
            "Número actual: 2\n",
            "Número actual: 3\n",
            "Número actual: 4\n",
            "Número actual: 5\n",
            "Terminó el conteo.\n"
          ]
        }
      ],
      "source": [
        "contador = 1\n",
        "while contador <= 5:\n",
        "    print(f\"Número actual: {contador}\")\n",
        "    contador += 1\n",
        "\n",
        "print(\"Terminó el conteo.\")\n"
      ]
    },
    {
      "cell_type": "markdown",
      "source": [
        "**Ejercicio 1.1**\n",
        "\n",
        "Solicita al usuario un número y muestra todos los números desde 1 hasta ese número.\n",
        "\n"
      ],
      "metadata": {
        "id": "i9ktGgFL6iZv"
      }
    },
    {
      "cell_type": "code",
      "source": [
        "num = int(input(\"Ingrese un número: \"))\n",
        "\n",
        "contador = 1\n",
        "while contador <= num:\n",
        "  print(f\"Número actual: {contador}\")\n",
        "  contador += 1\n",
        "print(\"Terminó el conteo.\")"
      ],
      "metadata": {
        "id": "yiIKKpaO6nfb",
        "colab": {
          "base_uri": "https://localhost:8080/"
        },
        "outputId": "26bed0e7-4f84-487a-e9f0-afc3be632ca3"
      },
      "execution_count": 9,
      "outputs": [
        {
          "output_type": "stream",
          "name": "stdout",
          "text": [
            "Ingrese un número: 3\n",
            "Número actual: 1\n",
            "Número actual: 2\n",
            "Número actual: 3\n",
            "Terminó el conteo.\n"
          ]
        }
      ]
    },
    {
      "cell_type": "markdown",
      "source": [
        "**Ejercicio 1.2**\n",
        "\n",
        "Realiza un programa que solicite números hasta que la suma acumulada sea mayor o igual a 100.\n",
        "\n"
      ],
      "metadata": {
        "id": "BZlXT-y86n0X"
      }
    },
    {
      "cell_type": "code",
      "source": [
        "i = 0\n",
        "while i < 100:\n",
        "  dato = int(input(\"Ingresa un número para sumar: \"))\n",
        "  i = i + dato\n",
        "  print(f'la suma es {i}')\n",
        "\n",
        "print('Fin del Programa')"
      ],
      "metadata": {
        "id": "unv7_Rev6w36",
        "colab": {
          "base_uri": "https://localhost:8080/"
        },
        "outputId": "52f92a1d-8c7e-402d-df24-8f04d9429c3c"
      },
      "execution_count": 10,
      "outputs": [
        {
          "output_type": "stream",
          "name": "stdout",
          "text": [
            "Ingresa un número para sumar: 10\n",
            "la suma es 10\n",
            "Ingresa un número para sumar: 24\n",
            "la suma es 34\n",
            "Ingresa un número para sumar: 50\n",
            "la suma es 84\n",
            "Ingresa un número para sumar: 12\n",
            "la suma es 96\n",
            "Ingresa un número para sumar: 10\n",
            "la suma es 106\n",
            "Fin del Programa\n"
          ]
        }
      ]
    },
    {
      "cell_type": "code",
      "source": [
        "suma = 0\n",
        "while suma < 100:\n",
        "  valores = int(input(\"Ingrese un número: \")) # Pedir número dentro del bucle\n",
        "  if suma + valores >= 100:\n",
        "    break\n",
        "  else:\n",
        "    suma += valores\n",
        "    print(f\"La suma acumulada es: {suma}\")\n",
        ""
      ],
      "metadata": {
        "colab": {
          "base_uri": "https://localhost:8080/"
        },
        "id": "Lb279tUsId_P",
        "outputId": "5ff795b6-a62e-42b6-c258-9757290aff70"
      },
      "execution_count": 16,
      "outputs": [
        {
          "name": "stdout",
          "output_type": "stream",
          "text": [
            "Ingrese un número: 99\n",
            "La suma acumulada es: 99\n",
            "Ingrese un número: 10\n"
          ]
        }
      ]
    },
    {
      "cell_type": "code",
      "source": [
        "suma"
      ],
      "metadata": {
        "colab": {
          "base_uri": "https://localhost:8080/"
        },
        "id": "iLIlUlEbJshT",
        "outputId": "9b06a662-e638-4a73-dadc-ab7dc34dae00"
      },
      "execution_count": 17,
      "outputs": [
        {
          "output_type": "execute_result",
          "data": {
            "text/plain": [
              "99"
            ]
          },
          "metadata": {},
          "execution_count": 17
        }
      ]
    },
    {
      "cell_type": "markdown",
      "source": [
        "**Ejercicio 1.3**\n",
        "\n",
        "Realiza un programa que solicite dos números (N y m), calcula los los multiplos de m menores que N. Una condicón del programa debe ser que m no sea mayor que N."
      ],
      "metadata": {
        "id": "e7PIp4vrEkg1"
      }
    },
    {
      "cell_type": "code",
      "source": [
        "m = int(input(\"Ingrese el valor del multiplicador: \"))\n",
        "N = int(input(\"Ingrese el valor límite: \"))\n",
        "\n",
        "contador = 0\n",
        "producto = 0\n",
        "\n",
        "if m <= N:\n",
        "    while producto < N:\n",
        "        producto = m * contador\n",
        "        print(f\"{m} x {contador} = {producto}\")\n",
        "        contador += 1\n",
        "else:\n",
        "    print(f\"El número m no puede ser mayor que el número N\")"
      ],
      "metadata": {
        "colab": {
          "base_uri": "https://localhost:8080/"
        },
        "id": "jilCv32zFLNi",
        "outputId": "d6f47152-9fd5-4a9d-e8a0-84001ea3550e"
      },
      "execution_count": 20,
      "outputs": [
        {
          "output_type": "stream",
          "name": "stdout",
          "text": [
            "Ingrese el valor del multiplicador: 4\n",
            "Ingrese el valor límite: 25\n",
            "4 x 0 = 0\n",
            "4 x 1 = 4\n",
            "4 x 2 = 8\n",
            "4 x 3 = 12\n",
            "4 x 4 = 16\n",
            "4 x 5 = 20\n",
            "4 x 6 = 24\n",
            "4 x 7 = 28\n"
          ]
        }
      ]
    },
    {
      "cell_type": "code",
      "source": [
        "# solicite dos números (N y m), calcula los los multiplos de m menores que N.\n",
        "# Una condición del programa debe ser que m no sea mayor que N.\n",
        "\n",
        "N = int(input('Ingrese el valor límite: '))\n",
        "m = int(input('Ingrese el valor del multiplicador: '))\n",
        "\n",
        "if m > N:\n",
        "  print('El número m no puede ser mayor que el número N')\n",
        "else:\n",
        "  contador = 0\n",
        "  producto = 0\n",
        "  while producto < N:\n",
        "    producto = m * contador\n",
        "    if producto < N:\n",
        "      print(f'{m} x {contador} = {producto}')\n",
        "    contador += 1\n",
        "print('programa terminado')"
      ],
      "metadata": {
        "id": "cVg6ucm1MRvB",
        "outputId": "2b539b61-b0cf-4903-b77e-3e289c79b271",
        "colab": {
          "base_uri": "https://localhost:8080/"
        }
      },
      "execution_count": 27,
      "outputs": [
        {
          "output_type": "stream",
          "name": "stdout",
          "text": [
            "Ingrese el valor límite: 20\n",
            "Ingrese el valor del multiplicador: 3\n",
            "3 x 0 = 0\n",
            "3 x 1 = 3\n",
            "3 x 2 = 6\n",
            "3 x 3 = 9\n",
            "3 x 4 = 12\n",
            "3 x 5 = 15\n",
            "3 x 6 = 18\n",
            "3 x 7 = 21\n",
            "programa terminado\n"
          ]
        }
      ]
    },
    {
      "cell_type": "code",
      "source": [
        "del producto"
      ],
      "metadata": {
        "id": "vn1ilBArOirF"
      },
      "execution_count": 23,
      "outputs": []
    },
    {
      "cell_type": "markdown",
      "source": [
        "## 2. Dejar que el usuario decida cuándo salir\n"
      ],
      "metadata": {
        "id": "HiAtV2fe6zi-"
      }
    },
    {
      "cell_type": "markdown",
      "source": [
        "Permite al usuario controlar cuándo finalizar la ejecución del bucle mediante una entrada específica.\n"
      ],
      "metadata": {
        "id": "9TaTdlCp62Ln"
      }
    },
    {
      "cell_type": "markdown",
      "source": [
        "**Ejemplo 2.1**"
      ],
      "metadata": {
        "id": "X3ehnMdu63sF"
      }
    },
    {
      "cell_type": "code",
      "source": [
        "del message"
      ],
      "metadata": {
        "id": "FDVLBQ5HRSFq"
      },
      "execution_count": 29,
      "outputs": []
    },
    {
      "cell_type": "code",
      "source": [
        "message"
      ],
      "metadata": {
        "id": "H2FWVKgERYuE",
        "outputId": "466328f6-015d-4235-8af1-3c85813305d9",
        "colab": {
          "base_uri": "https://localhost:8080/",
          "height": 176
        }
      },
      "execution_count": 30,
      "outputs": [
        {
          "output_type": "error",
          "ename": "NameError",
          "evalue": "name 'message' is not defined",
          "traceback": [
            "\u001b[0;31m---------------------------------------------------------------------------\u001b[0m",
            "\u001b[0;31mNameError\u001b[0m                                 Traceback (most recent call last)",
            "\u001b[0;32m<ipython-input-30-1133e3acf0a4>\u001b[0m in \u001b[0;36m<cell line: 0>\u001b[0;34m()\u001b[0m\n\u001b[0;32m----> 1\u001b[0;31m \u001b[0mmessage\u001b[0m\u001b[0;34m\u001b[0m\u001b[0;34m\u001b[0m\u001b[0m\n\u001b[0m",
            "\u001b[0;31mNameError\u001b[0m: name 'message' is not defined"
          ]
        }
      ]
    },
    {
      "cell_type": "code",
      "source": [
        "message = 'promp'\n",
        "while message != 'salir':\n",
        "  message = input('dime un mensaje y lo repetiré o salir para terminar: ')\n",
        "  print(message)\n"
      ],
      "metadata": {
        "id": "D3UgrYzIQgYb",
        "outputId": "0c59bd65-a090-44e1-82b5-02c2b83675e9",
        "colab": {
          "base_uri": "https://localhost:8080/"
        }
      },
      "execution_count": 33,
      "outputs": [
        {
          "output_type": "stream",
          "name": "stdout",
          "text": [
            "dime un mensaje y lo repetiré o salir para terminar: hola\n",
            "hola\n",
            "dime un mensaje y lo repetiré o salir para terminar: salir\n",
            "salir\n"
          ]
        }
      ]
    },
    {
      "cell_type": "code",
      "source": [
        "mensaje = ''\n",
        "while mensaje.lower() != 'salir':\n",
        "    mensaje = input(\"Escribe 'salir' para terminar: \")\n",
        "    if mensaje.lower() != 'salir':\n",
        "        print(f\"Ingresaste: {mensaje}\")\n",
        "print(\"Programa terminado.\")"
      ],
      "metadata": {
        "id": "9AXqylJZ67KJ"
      },
      "execution_count": null,
      "outputs": []
    },
    {
      "cell_type": "markdown",
      "source": [
        "**Ejercicio 2.1.**\n",
        "\n",
        "Crea un programa que permita introducir números indefinidamente hasta escribir \"fin\" y luego muestre la suma de todos los números ingresados.\n"
      ],
      "metadata": {
        "id": "1_ZsLH6U69XU"
      }
    },
    {
      "cell_type": "code",
      "source": [
        "\n",
        "num = ''\n",
        "contador = 0\n",
        "\n",
        "while num.lower().strip() != 'fin':\n",
        "  num = input('Ingrese un número o escriba \"fin\" para salir: ')\n",
        "  if num.lower().strip() != 'fin':\n",
        "    contador += int(num)\n",
        "\n",
        "print(f'la suma final es: {contador}')\n"
      ],
      "metadata": {
        "id": "ZU5tnAfm7Bzt",
        "colab": {
          "base_uri": "https://localhost:8080/"
        },
        "outputId": "e30b5d36-ae10-40d5-e929-4188c75f6238"
      },
      "execution_count": 43,
      "outputs": [
        {
          "output_type": "stream",
          "name": "stdout",
          "text": [
            "Ingrese un número o escriba \"fin\" para salir:      FIN  \n",
            "la suma final es: 0\n"
          ]
        }
      ]
    },
    {
      "cell_type": "markdown",
      "source": [
        "**Ejercicio 2.2.**\n",
        "\n",
        "Implementa un menú de opciones (mostrar, ingresar, salir) que repita hasta elegir salir.\n"
      ],
      "metadata": {
        "id": "EmhoSya87CI1"
      }
    },
    {
      "cell_type": "code",
      "source": [],
      "metadata": {
        "id": "EHTPcxGJ7H22"
      },
      "execution_count": null,
      "outputs": []
    },
    {
      "cell_type": "markdown",
      "source": [
        "## 3. Uso de bandera (flag)\n"
      ],
      "metadata": {
        "id": "uIYEi2vn7J_L"
      }
    },
    {
      "cell_type": "markdown",
      "source": [
        "Una bandera (`flag`) es una variable lógica usada para controlar cuándo debe finalizar un bucle.\n"
      ],
      "metadata": {
        "id": "YHe7O2jS7NCy"
      }
    },
    {
      "cell_type": "code",
      "source": [
        "activo = True\n",
        "num = ''\n",
        "contador = 0\n",
        "\n",
        "while activo:\n",
        "  num = input('Ingrese un número o escriba \"fin\" para salir: ')\n",
        "  if num.lower().strip() != 'fin':\n",
        "    contador += int(num)\n",
        "  else:\n",
        "    activo = False\n",
        "\n",
        "print(f'la suma final es: {contador}')\n"
      ],
      "metadata": {
        "id": "E7jmC2tUY9V-",
        "outputId": "29c6623b-97e3-4a12-a68a-597eb37e3c09",
        "colab": {
          "base_uri": "https://localhost:8080/"
        }
      },
      "execution_count": 45,
      "outputs": [
        {
          "output_type": "stream",
          "name": "stdout",
          "text": [
            "Ingrese un número o escriba \"fin\" para salir: 13\n",
            "Ingrese un número o escriba \"fin\" para salir: 1\n",
            "Ingrese un número o escriba \"fin\" para salir: fin\n",
            "la suma final es: 14\n"
          ]
        }
      ]
    },
    {
      "cell_type": "markdown",
      "source": [
        "**Ejemplo 3.1**"
      ],
      "metadata": {
        "id": "hrVhKmX_8K8X"
      }
    },
    {
      "cell_type": "code",
      "source": [
        "activo = True\n",
        "\n",
        "while activo:\n",
        "    opcion = input(\"Continuar (s/n): \")\n",
        "    if opcion.lower() == 'n':\n",
        "        activo = False\n",
        "print(\"Programa finalizado.\")"
      ],
      "metadata": {
        "id": "njCEJiY37PiC"
      },
      "execution_count": null,
      "outputs": []
    },
    {
      "cell_type": "code",
      "source": [
        "num = ''\n",
        "contador = 0\n",
        "\n",
        "while True:\n",
        "  num = input('Ingrese un número o escriba \"fin\" para salir: ')\n",
        "  if num.lower().strip() != 'fin':\n",
        "    contador += int(num)\n",
        "  else:\n",
        "    break\n",
        "\n",
        "print(f'la suma final es: {contador}')\n"
      ],
      "metadata": {
        "id": "ovnNi4O7dn53",
        "outputId": "dad8b832-a917-4dbc-bf3c-40054db72f62",
        "colab": {
          "base_uri": "https://localhost:8080/"
        }
      },
      "execution_count": 58,
      "outputs": [
        {
          "output_type": "stream",
          "name": "stdout",
          "text": [
            "Ingrese un número o escriba \"fin\" para salir: 10\n",
            "Ingrese un número o escriba \"fin\" para salir: fin\n",
            "la suma final es: 10\n"
          ]
        }
      ]
    },
    {
      "cell_type": "code",
      "source": [
        "n = -1\n",
        "\n",
        "while n <= 20:\n",
        "  n += 1\n",
        "  if n%2 == 0:\n",
        "    print(n)\n",
        "  else:\n",
        "    continue\n",
        "  print('se encontró un multiplo de 2!!!')\n"
      ],
      "metadata": {
        "id": "Vftzx8-tewB0",
        "outputId": "24f4a3ea-a511-4196-ab5c-2940ffc17774",
        "colab": {
          "base_uri": "https://localhost:8080/"
        }
      },
      "execution_count": 62,
      "outputs": [
        {
          "output_type": "stream",
          "name": "stdout",
          "text": [
            "0\n",
            "se encontró un multiplo de 2!!!\n",
            "2\n",
            "se encontró un multiplo de 2!!!\n",
            "4\n",
            "se encontró un multiplo de 2!!!\n",
            "6\n",
            "se encontró un multiplo de 2!!!\n",
            "8\n",
            "se encontró un multiplo de 2!!!\n",
            "10\n",
            "se encontró un multiplo de 2!!!\n",
            "12\n",
            "se encontró un multiplo de 2!!!\n",
            "14\n",
            "se encontró un multiplo de 2!!!\n",
            "16\n",
            "se encontró un multiplo de 2!!!\n",
            "18\n",
            "se encontró un multiplo de 2!!!\n",
            "20\n",
            "se encontró un multiplo de 2!!!\n"
          ]
        }
      ]
    },
    {
      "cell_type": "markdown",
      "source": [
        "**Ejercicio 3.1**\n",
        "\n",
        "Desarrolla un juego simple donde el usuario adivine un número secreto y use una bandera para determinar cuándo finalizar.\n"
      ],
      "metadata": {
        "id": "5_sLbMFD7SUj"
      }
    },
    {
      "cell_type": "code",
      "source": [
        "from random import randint"
      ],
      "metadata": {
        "id": "rGRh61E9bOIl"
      },
      "execution_count": 52,
      "outputs": []
    },
    {
      "cell_type": "code",
      "source": [
        "numero = randint(1, 100)\n",
        "numero"
      ],
      "metadata": {
        "id": "fG1oY5u6al72",
        "outputId": "02f3a9ad-e6af-433d-a4cd-95293f17004e",
        "colab": {
          "base_uri": "https://localhost:8080/"
        }
      },
      "execution_count": 56,
      "outputs": [
        {
          "output_type": "execute_result",
          "data": {
            "text/plain": [
              "40"
            ]
          },
          "metadata": {},
          "execution_count": 56
        }
      ]
    },
    {
      "cell_type": "code",
      "source": [
        "\n",
        "numero = randint(1, 100)\n",
        "\n",
        "while True:\n",
        "  response = int(input('adivine el número [1-100]: '))\n",
        "  if response == numero:\n",
        "    response = input('felicidades!! desea jugar de nuevo? (y): ')\n",
        "    if response == 'y':\n",
        "      print('vamos a jugar de nuevo')\n",
        "      numero = randint(1, 100)\n",
        "      continue\n",
        "    else:\n",
        "      print('gracias por jugar')\n",
        "      break\n",
        "  elif response < numero:\n",
        "    print('el número ingresado es menor al número secreto')\n",
        "  else:\n",
        "    print('el número ingresado es mayor al número secreto')\n",
        "\n",
        "\n",
        "\n"
      ],
      "metadata": {
        "id": "a26x6Fld7h7t",
        "colab": {
          "base_uri": "https://localhost:8080/"
        },
        "outputId": "69e3887c-469f-4104-900f-362120c00898"
      },
      "execution_count": 66,
      "outputs": [
        {
          "output_type": "stream",
          "name": "stdout",
          "text": [
            "adivine el número [1-100]: 50\n",
            "el número ingresado es menor al número secreto\n",
            "adivine el número [1-100]: 75\n",
            "el número ingresado es menor al número secreto\n",
            "adivine el número [1-100]: 85\n",
            "el número ingresado es menor al número secreto\n",
            "adivine el número [1-100]: 95\n",
            "el número ingresado es mayor al número secreto\n",
            "adivine el número [1-100]: 90\n",
            "felicidades!! desea jugar de nuevo? (y): n\n",
            "gracias por jugar\n"
          ]
        }
      ]
    },
    {
      "cell_type": "code",
      "source": [
        "numero"
      ],
      "metadata": {
        "id": "2lBtVEkche3q",
        "outputId": "0c96acbf-79a1-468c-fbc3-0ca40abaf01a",
        "colab": {
          "base_uri": "https://localhost:8080/"
        }
      },
      "execution_count": 64,
      "outputs": [
        {
          "output_type": "execute_result",
          "data": {
            "text/plain": [
              "51"
            ]
          },
          "metadata": {},
          "execution_count": 64
        }
      ]
    },
    {
      "cell_type": "markdown",
      "source": [
        "**Ejercicio 3.2**\n",
        "\n",
        "\n",
        "Crea un simulador de encuestas que registre respuestas hasta que el usuario indique explícitamente que desea detenerse.\n"
      ],
      "metadata": {
        "id": "KtLRZMCf7iZ6"
      }
    },
    {
      "cell_type": "code",
      "source": [],
      "metadata": {
        "id": "NF-Pza0K7l0_"
      },
      "execution_count": null,
      "outputs": []
    },
    {
      "cell_type": "markdown",
      "source": [],
      "metadata": {
        "id": "p_tM9Laf7mNx"
      }
    },
    {
      "cell_type": "markdown",
      "source": [
        "## 4. Uso de `break`\n"
      ],
      "metadata": {
        "id": "bQ49vDpd7nxl"
      }
    },
    {
      "cell_type": "markdown",
      "source": [
        "El comando `break` interrumpe inmediatamente la ejecución del bucle actual y continúa con el código siguiente fuera del bucle.\n"
      ],
      "metadata": {
        "id": "mNi_oK2e7p7h"
      }
    },
    {
      "cell_type": "markdown",
      "source": [
        "**Ejemplo 4.1**"
      ],
      "metadata": {
        "id": "i_NeJak88Mit"
      }
    },
    {
      "cell_type": "code",
      "source": [
        "while True:\n",
        "    contraseña = input(\"Introduce la contraseña: \")\n",
        "    if contraseña == '1234':\n",
        "        print(\"Acceso concedido.\")\n",
        "        break\n",
        "    print(\"Contraseña incorrecta, inténtalo de nuevo.\")"
      ],
      "metadata": {
        "id": "SZ3NAl_D7r7O"
      },
      "execution_count": null,
      "outputs": []
    },
    {
      "cell_type": "markdown",
      "source": [
        "**Ejercicio 4.1.**\n",
        "\n",
        "Programa una simulación de un cajero automático que finalice inmediatamente al ingresar el pin correcto.\n",
        "\n"
      ],
      "metadata": {
        "id": "blY9Uyi_7sYT"
      }
    },
    {
      "cell_type": "code",
      "source": [],
      "metadata": {
        "id": "luLubC-j70yf"
      },
      "execution_count": null,
      "outputs": []
    },
    {
      "cell_type": "markdown",
      "source": [
        "**Ejercicio 4.2.**\n",
        "\n",
        "Implementa un sistema que detenga la ejecución de un ciclo al detectar un número primo.\n"
      ],
      "metadata": {
        "id": "OMwgGQtN71pn"
      }
    },
    {
      "cell_type": "code",
      "source": [],
      "metadata": {
        "id": "lXAsluPh71FK"
      },
      "execution_count": null,
      "outputs": []
    },
    {
      "cell_type": "markdown",
      "source": [
        "## 5. Uso de `continue`\n"
      ],
      "metadata": {
        "id": "n3_A0xyy74E8"
      }
    },
    {
      "cell_type": "markdown",
      "source": [
        "El comando `continue` permite saltar la iteración actual y continuar directamente con la siguiente iteración del bucle.\n"
      ],
      "metadata": {
        "id": "k8xvQ7RF77Rc"
      }
    },
    {
      "cell_type": "markdown",
      "source": [
        "**Ejemplo 5.1**"
      ],
      "metadata": {
        "id": "SPFNjXXg8N5c"
      }
    },
    {
      "cell_type": "code",
      "source": [
        "for numero in range(10):\n",
        "    if numero % 2 == 0:\n",
        "        continue\n",
        "    print(numero, \"es impar.\")"
      ],
      "metadata": {
        "id": "z7ojd6o875S7"
      },
      "execution_count": null,
      "outputs": []
    },
    {
      "cell_type": "markdown",
      "source": [
        "**Ejercicio 5.1.**\n",
        "\n",
        "Crea un programa que pida números pero ignore (no los imprima) aquellos que sean múltiplos de 5.\n"
      ],
      "metadata": {
        "id": "2ANEL3x77_aA"
      }
    },
    {
      "cell_type": "code",
      "source": [],
      "metadata": {
        "id": "JPcGOsFw8G6y"
      },
      "execution_count": null,
      "outputs": []
    },
    {
      "cell_type": "markdown",
      "source": [
        "\n",
        "**Ejercicio 5.2.**\n",
        "\n",
        "Solicita al usuario 7 números y muestra solamente aquellos que sean positivos."
      ],
      "metadata": {
        "id": "OfzwakeO79WP"
      }
    },
    {
      "cell_type": "code",
      "source": [],
      "metadata": {
        "id": "bPww6bOQ8IAY"
      },
      "execution_count": null,
      "outputs": []
    },
    {
      "cell_type": "markdown",
      "source": [
        "## 6. Bucle `for`\n"
      ],
      "metadata": {
        "id": "7OcruVUY8R0h"
      }
    },
    {
      "cell_type": "markdown",
      "source": [
        "El bucle `for` recorre elementos de una secuencia conocida, permitiendo automatizar tareas repetitivas sobre listas, cadenas o cualquier secuencia iterable.\n"
      ],
      "metadata": {
        "id": "vIK_1Oz18Wg0"
      }
    },
    {
      "cell_type": "markdown",
      "source": [
        "**Ejemplo 6.1**"
      ],
      "metadata": {
        "id": "T5idR_D48UeL"
      }
    },
    {
      "cell_type": "code",
      "source": [
        "colores = ['rojo', 'verde', 'azul']\n",
        "for color in colores:\n",
        "    print(\"El color es\", color)"
      ],
      "metadata": {
        "id": "oQAKORFj8aol"
      },
      "execution_count": null,
      "outputs": []
    },
    {
      "cell_type": "markdown",
      "source": [
        "**Ejercicio 6.1.**\n",
        "\n",
        "Solicita 5 nombres y salúdalos individualmente usando un bucle `for`.\n"
      ],
      "metadata": {
        "id": "nSKYPrkA8dMT"
      }
    },
    {
      "cell_type": "code",
      "source": [],
      "metadata": {
        "id": "c9tmoekN8jco"
      },
      "execution_count": null,
      "outputs": []
    },
    {
      "cell_type": "markdown",
      "source": [
        "**Ejercicio 6.2.**\n",
        "\n",
        "Recorre una cadena de texto e imprime solo las letras vocales.\n"
      ],
      "metadata": {
        "id": "kpS-l4598jxI"
      }
    },
    {
      "cell_type": "code",
      "source": [],
      "metadata": {
        "id": "cAbGJKPi8orn"
      },
      "execution_count": null,
      "outputs": []
    },
    {
      "cell_type": "markdown",
      "source": [
        "## 7. Bucle `for` con `range()`\n"
      ],
      "metadata": {
        "id": "gq6iDWD88oPL"
      }
    },
    {
      "cell_type": "markdown",
      "source": [
        "La función `range()` genera una secuencia numérica ideal para controlar iteraciones con límites definidos.\n"
      ],
      "metadata": {
        "id": "F9nu8pBa8rQg"
      }
    },
    {
      "cell_type": "markdown",
      "source": [
        "**Ejemplo 7.1.**"
      ],
      "metadata": {
        "id": "W7FY33Xo8tMd"
      }
    },
    {
      "cell_type": "code",
      "source": [
        "for i in range(1, 6):\n",
        "    print(f\"Número: {i}\")"
      ],
      "metadata": {
        "id": "cu5H61Fm8szL"
      },
      "execution_count": null,
      "outputs": []
    },
    {
      "cell_type": "markdown",
      "source": [
        "**Ejercicio 7.1.**\n",
        "\n",
        "Realiza un programa que imprima todos los números pares entre 1 y 50.\n",
        "\n"
      ],
      "metadata": {
        "id": "W_t1FFCT8w83"
      }
    },
    {
      "cell_type": "code",
      "source": [],
      "metadata": {
        "id": "doe0H_jb86Ij"
      },
      "execution_count": null,
      "outputs": []
    },
    {
      "cell_type": "markdown",
      "source": [
        "**Ejercicio 7.2.**\n",
        "\n",
        "Usa `range()` para calcular y mostrar la suma de los primeros 20 números naturales.\n",
        "\n"
      ],
      "metadata": {
        "id": "J1D5oHeZ86ga"
      }
    },
    {
      "cell_type": "code",
      "source": [],
      "metadata": {
        "id": "go4Vvtnt87qz"
      },
      "execution_count": null,
      "outputs": []
    },
    {
      "cell_type": "markdown",
      "source": [
        "\n",
        "**Ejercicio 7.3.**\n",
        "\n",
        "Crea un programa que muestre una cuenta regresiva desde 15 hasta 0 con un mensaje especial en cero."
      ],
      "metadata": {
        "id": "7b7oby7_879-"
      }
    },
    {
      "cell_type": "markdown",
      "source": [
        "---\n",
        "\n",
        "## Ejercicios adicionales\n",
        "\n",
        "1. Simula un sistema de votación que cuente votos hasta que el usuario decida terminar y muestre el total.\n",
        "\n",
        "2. Crea un juego en el que el usuario adivine un número generado aleatoriamente con límite de intentos.\n",
        "\n",
        "3. Desarrolla un programa que imprima la tabla de multiplicar de cualquier número ingresado por el usuario.\n",
        "\n",
        "4. Realiza un programa que solicite números continuamente hasta que ingrese un número negativo y luego muestre la cantidad de números ingresados.\n",
        "\n",
        "5. Simula un cronómetro que imprima los segundos hasta llegar a un tiempo ingresado por el usuario.\n",
        "\n",
        "6. Pide al usuario una palabra e imprime sus letras alternando mayúsculas y minúsculas.\n",
        "\n",
        "7. Implementa un buscador que solicite nombres continuamente y los almacene en una lista hasta que el usuario escriba \"salir\".\n",
        "\n",
        "8. Solicita al usuario números y determina cuántos números primos se han ingresado al finalizar la entrada de datos.\n",
        "\n",
        "---"
      ],
      "metadata": {
        "id": "1DwFMbVi8-Uj"
      }
    },
    {
      "cell_type": "markdown",
      "source": [
        "## Conclusión\n",
        "\n",
        "A lo largo de este laboratorio, aprendiste cómo usar estructuras repetitivas para automatizar tareas, controlar condiciones dinámicas y solucionar problemas complejos de forma eficiente y clara en Python. Estas habilidades son esenciales para la programación estructurada y eficiente.\n"
      ],
      "metadata": {
        "id": "4AfCerGB9Hjl"
      }
    },
    {
      "cell_type": "markdown",
      "source": [
        "---\n",
        "\n",
        "# Gracias por completar este laboratorio!\n",
        "\n",
        "---\n"
      ],
      "metadata": {
        "id": "uPP5akR29Iub"
      }
    }
  ]
}